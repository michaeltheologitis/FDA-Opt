{
 "cells": [
  {
   "cell_type": "code",
   "execution_count": 1,
   "id": "5c43a753-e1fb-40ab-a9fd-9bfb4c75a787",
   "metadata": {},
   "outputs": [],
   "source": [
    "MAX_ROUNDS = 10"
   ]
  },
  {
   "cell_type": "code",
   "execution_count": 2,
   "id": "0208d9f3-82bc-4eb5-84a4-903e9e17fbc4",
   "metadata": {},
   "outputs": [],
   "source": [
    "theta = 0.001"
   ]
  },
  {
   "cell_type": "code",
   "execution_count": 3,
   "id": "f3a2b8f9-91b5-4b2d-9743-3047d247bfd5",
   "metadata": {},
   "outputs": [
    {
     "data": {
      "text/plain": [
       "0.625"
      ]
     },
     "execution_count": 3,
     "metadata": {},
     "output_type": "execute_result"
    }
   ],
   "source": [
    "5 / 8"
   ]
  },
  {
   "cell_type": "code",
   "execution_count": null,
   "id": "1ed04dbe-ae97-4963-908c-a1c0d1019bff",
   "metadata": {},
   "outputs": [],
   "source": []
  }
 ],
 "metadata": {
  "kernelspec": {
   "display_name": "Python [conda env:base] *",
   "language": "python",
   "name": "conda-base-py"
  },
  "language_info": {
   "codemirror_mode": {
    "name": "ipython",
    "version": 3
   },
   "file_extension": ".py",
   "mimetype": "text/x-python",
   "name": "python",
   "nbconvert_exporter": "python",
   "pygments_lexer": "ipython3",
   "version": "3.12.7"
  }
 },
 "nbformat": 4,
 "nbformat_minor": 5
}
