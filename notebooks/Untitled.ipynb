{
 "cells": [
  {
   "cell_type": "code",
   "execution_count": 1,
   "id": "47105121-6662-42de-a469-79aa1ae4e210",
   "metadata": {
    "tags": []
   },
   "outputs": [],
   "source": [
    "d1 = {}\n",
    "d2 = {'mike': 2}\n",
    "d3 = {'s': (1,2)}"
   ]
  },
  {
   "cell_type": "code",
   "execution_count": 2,
   "id": "07978a47-174e-48a8-a08a-99369c01eb25",
   "metadata": {
    "tags": []
   },
   "outputs": [
    {
     "data": {
      "text/plain": [
       "{'mike': 2, 's': (1, 2)}"
      ]
     },
     "execution_count": 2,
     "metadata": {},
     "output_type": "execute_result"
    }
   ],
   "source": [
    "{**d1, **d2, **d3}"
   ]
  },
  {
   "cell_type": "code",
   "execution_count": 3,
   "id": "c877e0c6-b98b-491a-8f1f-5c55d1ff48a9",
   "metadata": {
    "tags": []
   },
   "outputs": [],
   "source": [
    "import ast"
   ]
  },
  {
   "cell_type": "code",
   "execution_count": 7,
   "id": "08b03809-99a0-4d9f-ba85-c0a6e1d92d84",
   "metadata": {
    "tags": []
   },
   "outputs": [
    {
     "data": {
      "text/plain": [
       "float"
      ]
     },
     "execution_count": 7,
     "metadata": {},
     "output_type": "execute_result"
    }
   ],
   "source": [
    "type(ast.literal_eval('0.99'))"
   ]
  },
  {
   "cell_type": "code",
   "execution_count": null,
   "id": "567bd967-58a4-486f-9689-1bbae0ce224c",
   "metadata": {},
   "outputs": [],
   "source": [
    "python -m fdaopt.miscellaneous.create_hyperparameters --checkpoint roberta-base --ds_path glue --ds_name mrpc --num_labels 2 --num_clients 100 --clients_per_round 10 --alpha 1. --batch_size 8 --local_epochs 1 --total_rounds 1000 --server_opt_name Adam --client_opt_name 'SGD' --server_opt_args lr=0.001 betas='(0.9, 0.99)'"
   ]
  },
  {
   "cell_type": "code",
   "execution_count": 9,
   "id": "40bcc6ad-c610-423c-93cf-3415401fcc26",
   "metadata": {
    "tags": []
   },
   "outputs": [],
   "source": [
    "x1 = {\"checkpoint\": \"roberta-base\", \"ds_path\": \"glue\", \"ds_name\": \"mrpc\", \"num_labels\": 2, \"num_clients\": 100, \"clients_per_round\": 10, \"alpha\": 1.0, \"batch_size\": 8, \"local_epochs\": 1, \"total_rounds\": 1000, \"server_opt_name\": \"Adam\", \"client_opt_name\": \"SGD\", \"server_opt_lr\": 0.001, \"server_opt_betas\": [0.9, 0.99]}"
   ]
  },
  {
   "cell_type": "code",
   "execution_count": 8,
   "id": "12497dac-688d-4b1f-b2eb-d2eced3f57c4",
   "metadata": {
    "tags": []
   },
   "outputs": [],
   "source": [
    "x2  ={\"checkpoint\": \"roberta-base\", \"ds_path\": \"glue\", \"ds_name\": \"mrpc\", \"num_labels\": 2, \"num_clients\": 100, \"clients_per_round\": 10, \"alpha\": 1.0, \"batch_size\": 8, \"local_epochs\": 1, \"total_rounds\": 1000, \"server_opt_name\": \"Adam\", \"client_opt_name\": \"SGD\", \"server_opt_lr\": 0.001, \"server_opt_betas\": [0.9, 0.99]}"
   ]
  },
  {
   "cell_type": "code",
   "execution_count": 10,
   "id": "0b3b1443-186f-412e-b29e-986bbc7e994d",
   "metadata": {
    "tags": []
   },
   "outputs": [
    {
     "data": {
      "text/plain": [
       "{'checkpoint': 'roberta-base',\n",
       " 'ds_path': 'glue',\n",
       " 'ds_name': 'mrpc',\n",
       " 'num_labels': 2,\n",
       " 'num_clients': 100,\n",
       " 'clients_per_round': 10,\n",
       " 'alpha': 1.0,\n",
       " 'batch_size': 8,\n",
       " 'local_epochs': 1,\n",
       " 'total_rounds': 1000,\n",
       " 'server_opt_name': 'Adam',\n",
       " 'client_opt_name': 'SGD',\n",
       " 'server_opt_lr': 0.001,\n",
       " 'server_opt_betas': [0.9, 0.99]}"
      ]
     },
     "execution_count": 10,
     "metadata": {},
     "output_type": "execute_result"
    }
   ],
   "source": [
    "x1"
   ]
  },
  {
   "cell_type": "code",
   "execution_count": 11,
   "id": "51059a27-9243-4486-98ef-64311e588dcb",
   "metadata": {
    "tags": []
   },
   "outputs": [
    {
     "data": {
      "text/plain": [
       "{'checkpoint': 'roberta-base',\n",
       " 'ds_path': 'glue',\n",
       " 'ds_name': 'mrpc',\n",
       " 'num_labels': 2,\n",
       " 'num_clients': 100,\n",
       " 'clients_per_round': 10,\n",
       " 'alpha': 1.0,\n",
       " 'batch_size': 8,\n",
       " 'local_epochs': 1,\n",
       " 'total_rounds': 1000,\n",
       " 'server_opt_name': 'Adam',\n",
       " 'client_opt_name': 'SGD',\n",
       " 'server_opt_lr': 0.001,\n",
       " 'server_opt_betas': [0.9, 0.99]}"
      ]
     },
     "execution_count": 11,
     "metadata": {},
     "output_type": "execute_result"
    }
   ],
   "source": [
    "x2"
   ]
  },
  {
   "cell_type": "code",
   "execution_count": 12,
   "id": "aa94fcd8-3b70-4d3b-b64e-833f010fb100",
   "metadata": {
    "tags": []
   },
   "outputs": [
    {
     "data": {
      "text/plain": [
       "['hp_0', 'json']"
      ]
     },
     "execution_count": 12,
     "metadata": {},
     "output_type": "execute_result"
    }
   ],
   "source": [
    "'hp_0.json'.split('.')"
   ]
  },
  {
   "cell_type": "code",
   "execution_count": 14,
   "id": "b750e209-98dd-4991-8735-f3563472d2df",
   "metadata": {
    "tags": []
   },
   "outputs": [
    {
     "data": {
      "text/plain": [
       "{'mike': 1}"
      ]
     },
     "execution_count": 14,
     "metadata": {},
     "output_type": "execute_result"
    }
   ],
   "source": [
    "{**{'mike':1}, **{}}"
   ]
  },
  {
   "cell_type": "code",
   "execution_count": null,
   "id": "a0087bf3-1bbd-4fdd-9ee6-9f98a7aeced2",
   "metadata": {},
   "outputs": [],
   "source": []
  },
  {
   "cell_type": "code",
   "execution_count": 3,
   "id": "e0ba4dee-36a8-4185-b3e0-de25c2311389",
   "metadata": {
    "tags": []
   },
   "outputs": [],
   "source": [
    "import numpy as np"
   ]
  },
  {
   "cell_type": "code",
   "execution_count": 1,
   "id": "69004e87-31bf-4ebd-9606-c49d5f6f464b",
   "metadata": {
    "tags": []
   },
   "outputs": [],
   "source": [
    "round_variance = [0.05, 0.06, 0.08, 1., 1.2]"
   ]
  },
  {
   "cell_type": "code",
   "execution_count": 4,
   "id": "e8d58f36-ecd5-4b6c-9cb2-cd527a95be39",
   "metadata": {
    "tags": []
   },
   "outputs": [],
   "source": [
    "# number of samplings\n",
    "n = len(round_variance)\n",
    "\n",
    "# linear weights: w_i = i (from 1 to n)\n",
    "weights = np.arange(1, n + 1)"
   ]
  },
  {
   "cell_type": "code",
   "execution_count": 5,
   "id": "b2f598cc-3ffd-465d-8d92-db76c44b785e",
   "metadata": {
    "tags": []
   },
   "outputs": [
    {
     "data": {
      "text/plain": [
       "array([1, 2, 3, 4, 5])"
      ]
     },
     "execution_count": 5,
     "metadata": {},
     "output_type": "execute_result"
    }
   ],
   "source": [
    "weights"
   ]
  },
  {
   "cell_type": "code",
   "execution_count": 6,
   "id": "d3ad297c-29fa-489b-9105-3edbd7ccae18",
   "metadata": {
    "tags": []
   },
   "outputs": [],
   "source": [
    "weighted_sum = np.dot(weights, round_variance) / np.sum(weights)"
   ]
  },
  {
   "cell_type": "code",
   "execution_count": 7,
   "id": "ca9b883f-650c-42a5-8a64-6f06387b4143",
   "metadata": {
    "tags": []
   },
   "outputs": [
    {
     "data": {
      "text/plain": [
       "0.6940000000000001"
      ]
     },
     "execution_count": 7,
     "metadata": {},
     "output_type": "execute_result"
    }
   ],
   "source": [
    "weighted_sum"
   ]
  },
  {
   "cell_type": "code",
   "execution_count": 1,
   "id": "efe80deb-0172-4353-bce8-ce71643ffea6",
   "metadata": {
    "tags": []
   },
   "outputs": [],
   "source": [
    "import torch"
   ]
  },
  {
   "cell_type": "code",
   "execution_count": 8,
   "id": "16e71368-3fd0-4312-afcf-b3b80adb3ae1",
   "metadata": {
    "tags": []
   },
   "outputs": [
    {
     "data": {
      "text/plain": [
       "5.834362506866455"
      ]
     },
     "execution_count": 8,
     "metadata": {},
     "output_type": "execute_result"
    }
   ],
   "source": [
    "(torch.dot(torch.rand(10), torch.rand(10))**2).item()"
   ]
  },
  {
   "cell_type": "code",
   "execution_count": 9,
   "id": "0a6d9a7b-ce7e-4e3f-bc8f-672fe6108668",
   "metadata": {
    "tags": []
   },
   "outputs": [
    {
     "data": {
      "text/plain": [
       "tensor(0.4978)"
      ]
     },
     "execution_count": 9,
     "metadata": {},
     "output_type": "execute_result"
    }
   ],
   "source": [
    "sum(torch.rand(10)) / len(torch.rand(10))"
   ]
  },
  {
   "cell_type": "code",
   "execution_count": 21,
   "id": "c78602eb-2715-4ce0-8e00-51c69233bafa",
   "metadata": {
    "tags": []
   },
   "outputs": [
    {
     "name": "stdout",
     "output_type": "stream",
     "text": [
      "0\n",
      "1\n",
      "2\n",
      "3\n",
      "4\n",
      "5\n",
      "6\n",
      "7\n",
      "8\n",
      "9\n"
     ]
    }
   ],
   "source": [
    "for r in range(10):\n",
    "    print(r)"
   ]
  },
  {
   "cell_type": "code",
   "execution_count": 11,
   "id": "575a63e9-0b38-442a-805a-512f16b592fc",
   "metadata": {
    "tags": []
   },
   "outputs": [
    {
     "data": {
      "text/plain": [
       "9"
      ]
     },
     "execution_count": 11,
     "metadata": {},
     "output_type": "execute_result"
    }
   ],
   "source": [
    "r"
   ]
  },
  {
   "cell_type": "code",
   "execution_count": 17,
   "id": "17dcfbe7-e5c5-4cc0-a119-f6ce6fead5f3",
   "metadata": {
    "tags": []
   },
   "outputs": [
    {
     "data": {
      "text/plain": [
       "10"
      ]
     },
     "execution_count": 17,
     "metadata": {},
     "output_type": "execute_result"
    }
   ],
   "source": [
    "len(list(range(9, 10+9)))"
   ]
  },
  {
   "cell_type": "code",
   "execution_count": 22,
   "id": "595b92ec-526e-40eb-a718-4f171da40487",
   "metadata": {
    "tags": []
   },
   "outputs": [
    {
     "name": "stdout",
     "output_type": "stream",
     "text": [
      "10\n",
      "11\n",
      "12\n",
      "13\n",
      "14\n",
      "15\n",
      "16\n",
      "17\n",
      "18\n",
      "19\n"
     ]
    }
   ],
   "source": [
    "for r in range(r+1, 10+r+1):\n",
    "    print(r)"
   ]
  },
  {
   "cell_type": "code",
   "execution_count": 23,
   "id": "5cc2e6fa-5f0b-4335-880e-09c5e82ed78e",
   "metadata": {
    "tags": []
   },
   "outputs": [
    {
     "data": {
      "text/plain": [
       "4.256699612603923"
      ]
     },
     "execution_count": 23,
     "metadata": {},
     "output_type": "execute_result"
    }
   ],
   "source": [
    "5**(0.9)"
   ]
  },
  {
   "cell_type": "code",
   "execution_count": null,
   "id": "e671ea4e-7fb8-42c7-aa6c-1cf2a2acc6a2",
   "metadata": {},
   "outputs": [],
   "source": []
  },
  {
   "cell_type": "code",
   "execution_count": null,
   "id": "6c831bf1-c64b-4b5a-95e9-7081f868c1b7",
   "metadata": {},
   "outputs": [],
   "source": []
  },
  {
   "cell_type": "code",
   "execution_count": null,
   "id": "a18be5ef-68ac-4df3-847c-6da2ce4b224b",
   "metadata": {},
   "outputs": [],
   "source": []
  },
  {
   "cell_type": "code",
   "execution_count": null,
   "id": "5d12f69f-4ec9-4908-9c78-5323ccf10a72",
   "metadata": {},
   "outputs": [],
   "source": []
  },
  {
   "cell_type": "code",
   "execution_count": null,
   "id": "819c07d2-0a71-44b4-b9c6-817b0a78bd95",
   "metadata": {},
   "outputs": [],
   "source": []
  },
  {
   "cell_type": "code",
   "execution_count": null,
   "id": "bc15956d-26fb-4968-a9de-1be463f2fac7",
   "metadata": {},
   "outputs": [],
   "source": []
  },
  {
   "cell_type": "code",
   "execution_count": null,
   "id": "56b7afdf-a4d7-4228-9800-76aed6be4672",
   "metadata": {},
   "outputs": [],
   "source": []
  },
  {
   "cell_type": "code",
   "execution_count": 26,
   "id": "a46db002-9edd-410f-b708-60b8d6b6012b",
   "metadata": {
    "tags": []
   },
   "outputs": [],
   "source": [
    "import numpy as np"
   ]
  },
  {
   "cell_type": "code",
   "execution_count": 27,
   "id": "c721daba-ac04-4c6f-a709-ead5d0bd4490",
   "metadata": {
    "tags": []
   },
   "outputs": [],
   "source": [
    "def compute_custom_weights(p, n):\n",
    "    \"\"\"\n",
    "    Computes the custom weights w_i = (i^p) / sum(i^p) for i from 1 to n.\n",
    "    \n",
    "    Parameters:\n",
    "    - p: Power parameter that controls how sharply weights increase.\n",
    "    - n: Total number of elements.\n",
    "\n",
    "    Returns:\n",
    "    - weights: A numpy array of length n containing the weights.\n",
    "    \"\"\"\n",
    "    indices = np.arange(1, n + 1)\n",
    "    weights = indices**p\n",
    "    normalized_weights = weights / np.sum(weights)\n",
    "    \n",
    "    return normalized_weights"
   ]
  },
  {
   "cell_type": "code",
   "execution_count": 37,
   "id": "e68272c7-01f2-434c-8809-07cf903a8ed0",
   "metadata": {
    "tags": []
   },
   "outputs": [
    {
     "data": {
      "text/plain": [
       "array([0.05894795, 0.07426976, 0.08501766, 0.09357404, 0.10079958,\n",
       "       0.10711554, 0.11276337, 0.1178959 , 0.12261668, 0.12699951])"
      ]
     },
     "execution_count": 37,
     "metadata": {},
     "output_type": "execute_result"
    }
   ],
   "source": [
    "compute_custom_weights(1/3, 10)"
   ]
  },
  {
   "cell_type": "code",
   "execution_count": 35,
   "id": "66aa3237-eaf1-41bd-9151-d47b54d42f83",
   "metadata": {
    "tags": []
   },
   "outputs": [
    {
     "data": {
      "text/plain": [
       "array([0.04450719, 0.06294268, 0.07708872, 0.08901439, 0.09952111,\n",
       "       0.10901991, 0.11775496, 0.12588535, 0.13352158, 0.1407441 ])"
      ]
     },
     "execution_count": 35,
     "metadata": {},
     "output_type": "execute_result"
    }
   ],
   "source": [
    "compute_custom_weights(0.5, 10)"
   ]
  },
  {
   "cell_type": "code",
   "execution_count": 30,
   "id": "63afdd64-799a-447c-ae5a-f1c40ba2bc2a",
   "metadata": {
    "tags": []
   },
   "outputs": [
    {
     "data": {
      "text/plain": [
       "array([0.01818182, 0.03636364, 0.05454545, 0.07272727, 0.09090909,\n",
       "       0.10909091, 0.12727273, 0.14545455, 0.16363636, 0.18181818])"
      ]
     },
     "execution_count": 30,
     "metadata": {},
     "output_type": "execute_result"
    }
   ],
   "source": [
    "compute_custom_weights(1, 10)"
   ]
  },
  {
   "cell_type": "code",
   "execution_count": 28,
   "id": "9c7bed29-be48-4da0-8bc2-f3a81205f9cb",
   "metadata": {
    "tags": []
   },
   "outputs": [
    {
     "data": {
      "text/plain": [
       "array([0.0025974 , 0.01038961, 0.02337662, 0.04155844, 0.06493506,\n",
       "       0.09350649, 0.12727273, 0.16623377, 0.21038961, 0.25974026])"
      ]
     },
     "execution_count": 28,
     "metadata": {},
     "output_type": "execute_result"
    }
   ],
   "source": [
    "compute_custom_weights(2, 10)"
   ]
  },
  {
   "cell_type": "code",
   "execution_count": 29,
   "id": "0b7f3323-34b6-478c-bfac-be6122726c8e",
   "metadata": {
    "tags": []
   },
   "outputs": [
    {
     "data": {
      "text/plain": [
       "array([0.00033058, 0.00264463, 0.00892562, 0.02115702, 0.04132231,\n",
       "       0.07140496, 0.11338843, 0.1692562 , 0.24099174, 0.33057851])"
      ]
     },
     "execution_count": 29,
     "metadata": {},
     "output_type": "execute_result"
    }
   ],
   "source": [
    "compute_custom_weights(3, 10)"
   ]
  },
  {
   "cell_type": "code",
   "execution_count": null,
   "id": "04584efa-77d3-4af0-8860-a80b5f9d54fd",
   "metadata": {},
   "outputs": [],
   "source": []
  }
 ],
 "metadata": {
  "kernelspec": {
   "display_name": "Python [conda env:pytorch]",
   "language": "python",
   "name": "conda-env-pytorch-py"
  },
  "language_info": {
   "codemirror_mode": {
    "name": "ipython",
    "version": 3
   },
   "file_extension": ".py",
   "mimetype": "text/x-python",
   "name": "python",
   "nbconvert_exporter": "python",
   "pygments_lexer": "ipython3",
   "version": "3.12.4"
  }
 },
 "nbformat": 4,
 "nbformat_minor": 5
}
