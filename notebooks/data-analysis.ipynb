{
 "cells": [
  {
   "cell_type": "code",
   "execution_count": 7,
   "id": "ee2044ee-b43b-47dd-88b3-27d6e8b220c2",
   "metadata": {
    "tags": []
   },
   "outputs": [],
   "source": [
    "import pandas as pd\n",
    "import os"
   ]
  },
  {
   "cell_type": "code",
   "execution_count": 14,
   "id": "8659cc58-f4b0-4faf-b8c4-43920ed4e142",
   "metadata": {},
   "outputs": [],
   "source": [
    "# List to store all DataFrames\n",
    "dfs = []\n",
    "\n",
    "folder_path = '../results/round_metrics'\n",
    "\n",
    "# Loop through all files in the folder\n",
    "for file in os.listdir(folder_path):\n",
    "    if file.endswith('.csv'):  # Ensure it's a CSV file\n",
    "        file_path = os.path.join(folder_path, file)\n",
    "        # Load the CSV file into a DataFrame and append it to the list\n",
    "        dfs.append(pd.read_csv(file_path, index_col=0))"
   ]
  },
  {
   "cell_type": "code",
   "execution_count": 15,
   "id": "ec37bebe-7bf8-4ba5-a96a-93be77e99b4a",
   "metadata": {},
   "outputs": [],
   "source": [
    "df =  pd.concat(dfs, ignore_index=True)"
   ]
  },
  {
   "cell_type": "code",
   "execution_count": 20,
   "id": "ec3b496e-e6b6-4ec0-b553-3a6ca95ae081",
   "metadata": {
    "scrolled": true
   },
   "outputs": [
    {
     "data": {
      "text/plain": [
       "Index(['checkpoint', 'ds_path', 'ds_name', 'num_labels', 'num_clients',\n",
       "       'clients_per_round', 'alpha', 'batch_size', 'local_epochs',\n",
       "       'total_rounds', 'fda', 'theta', 'extras', 'server_opt_name',\n",
       "       'server_opt_lr', 'client_opt_name', 'client_opt_lr', 'round',\n",
       "       'accuracy', 'f1', 'testing_loss', 'training_loss', 'variance',\n",
       "       'avg_norm_sq_drifts', 'norm_sq_avg_drift', 'round_steps',\n",
       "       'server_opt_momentum'],\n",
       "      dtype='object')"
      ]
     },
     "execution_count": 20,
     "metadata": {},
     "output_type": "execute_result"
    }
   ],
   "source": [
    "df.columns"
   ]
  },
  {
   "cell_type": "code",
   "execution_count": 46,
   "id": "6ef86149-26eb-4c96-8280-5d1abf81687b",
   "metadata": {},
   "outputs": [],
   "source": [
    "def filter_unique_test(df, checkpoint, ds_path, ds_name, alpha, batch_size, num_clients, clients_per_round, fda, server_opt_name, client_opt_name):\n",
    "    return df[\n",
    "        (df['checkpoint'] == checkpoint) &\n",
    "        (df['ds_path'] == ds_path) &\n",
    "        (df['ds_name'] == ds_name) &\n",
    "        (df['alpha'] == alpha) &\n",
    "        (df['batch_size'] == batch_size) &\n",
    "        (df['num_clients'] == num_clients) &\n",
    "        (df['clients_per_round'] == clients_per_round) &\n",
    "        (df['fda'] == fda) &\n",
    "        (df['server_opt_name'] == server_opt_name) &\n",
    "        (df['client_opt_name'] == client_opt_name)\n",
    "    ]"
   ]
  },
  {
   "cell_type": "code",
   "execution_count": 47,
   "id": "3fe995af-20d1-4991-b80b-5b9843f185a7",
   "metadata": {},
   "outputs": [],
   "source": [
    "df_fed = filter_unique_test(\n",
    "    df, checkpoint='roberta-base', ds_path='glue', ds_name='mrpc', alpha=1., batch_size=8, num_clients=10, clients_per_round=10, fda=False, server_opt_name='Adam', client_opt_name='SGD'\n",
    ")"
   ]
  },
  {
   "cell_type": "code",
   "execution_count": 49,
   "id": "c9fa710a-99a6-4d60-adaa-3cf80aec85a3",
   "metadata": {},
   "outputs": [],
   "source": [
    "# Get the unique groups and their count\n",
    "unique_groups = df_fed[['client_opt_lr', 'server_opt_lr']].drop_duplicates()\n",
    "\n",
    "# Number of unique groups\n",
    "num_unique_groups = len(unique_groups)"
   ]
  },
  {
   "cell_type": "code",
   "execution_count": 52,
   "id": "02b2412c-4dac-47b0-8c5b-dddcabccd8b0",
   "metadata": {},
   "outputs": [
    {
     "data": {
      "text/plain": [
       "0.8995098039215687"
      ]
     },
     "execution_count": 52,
     "metadata": {},
     "output_type": "execute_result"
    }
   ],
   "source": [
    "max(df_fed['accuracy'])"
   ]
  },
  {
   "cell_type": "code",
   "execution_count": 53,
   "id": "a2afa967-56dd-4dd0-9742-46082b32240f",
   "metadata": {},
   "outputs": [
    {
     "data": {
      "text/plain": [
       "0.9296740994854202"
      ]
     },
     "execution_count": 53,
     "metadata": {},
     "output_type": "execute_result"
    }
   ],
   "source": [
    "max(df_fed['f1'])"
   ]
  },
  {
   "cell_type": "markdown",
   "id": "eb4645f3-6139-47e2-bb71-25d7b8451406",
   "metadata": {},
   "source": [
    "MRPC Accuracy: 0.9020\n",
    "F1: 0.9296"
   ]
  },
  {
   "cell_type": "code",
   "execution_count": 54,
   "id": "9461fd7f-db8a-447c-884d-6eef612d73e5",
   "metadata": {},
   "outputs": [
    {
     "data": {
      "text/plain": [
       "89.298"
      ]
     },
     "execution_count": 54,
     "metadata": {},
     "output_type": "execute_result"
    }
   ],
   "source": [
    "0.99 * 90.2"
   ]
  },
  {
   "cell_type": "code",
   "execution_count": null,
   "id": "138a543a-ae14-413e-8477-2d2dfbbffee1",
   "metadata": {},
   "outputs": [],
   "source": []
  }
 ],
 "metadata": {
  "kernelspec": {
   "display_name": "Python [conda env:data-analysis]",
   "language": "python",
   "name": "conda-env-data-analysis-py"
  },
  "language_info": {
   "codemirror_mode": {
    "name": "ipython",
    "version": 3
   },
   "file_extension": ".py",
   "mimetype": "text/x-python",
   "name": "python",
   "nbconvert_exporter": "python",
   "pygments_lexer": "ipython3",
   "version": "3.13.0"
  }
 },
 "nbformat": 4,
 "nbformat_minor": 5
}
