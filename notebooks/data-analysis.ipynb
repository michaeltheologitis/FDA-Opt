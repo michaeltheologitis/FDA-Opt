{
 "cells": [
  {
   "cell_type": "code",
   "execution_count": 6,
   "id": "ee2044ee-b43b-47dd-88b3-27d6e8b220c2",
   "metadata": {
    "tags": []
   },
   "outputs": [],
   "source": [
    "import pandas as pd"
   ]
  },
  {
   "cell_type": "code",
   "execution_count": 62,
   "id": "67a0a670-ef41-4dea-8992-2759398ce668",
   "metadata": {
    "tags": []
   },
   "outputs": [],
   "source": [
    "pd.set_option('display.max_rows', 500)"
   ]
  },
  {
   "cell_type": "code",
   "execution_count": 67,
   "id": "ab1a4a4b-22ff-4999-ab10-2ba5db13e025",
   "metadata": {
    "tags": []
   },
   "outputs": [
    {
     "name": "stdout",
     "output_type": "stream",
     "text": [
      "../results/round_metrics/roberta-base_glue_mrpc_2_100_10_1.0_8_1_500_True_0.001__Adam_0.0001_SGD_0.001.csv\n",
      "../results/round_metrics/roberta-base_glue_mrpc_2_100_10_1.0_8_1_500_True_0.0023__SGD_0.33_0.9_SGD_0.001.csv\n",
      "../results/round_metrics/roberta-base_glue_mrpc_2_100_10_1.0_8_1_500_True_0.0024__SGD_1_SGD_0.001.csv\n"
     ]
    }
   ],
   "source": [
    "!ls ../results/round_metrics/*True*"
   ]
  },
  {
   "cell_type": "code",
   "execution_count": null,
   "id": "39a6d194-394e-47b8-848d-71bebf4abb5a",
   "metadata": {},
   "outputs": [],
   "source": []
  },
  {
   "cell_type": "code",
   "execution_count": 70,
   "id": "27d751d8-066c-4259-9fff-771d83ab93a3",
   "metadata": {
    "tags": []
   },
   "outputs": [],
   "source": [
    "best = {\n",
    "    'FedAdam': '../results/round_metrics/roberta-base_glue_mrpc_2_100_10_1.0_8_1_1000_Adam_0.0001_SGD_0.001.csv',\n",
    "    'FedAvg': '../results/round_metrics/roberta-base_glue_mrpc_2_100_10_1.0_8_1_1000_SGD_1.0_SGD_0.001.csv',\n",
    "    'FedAvgM': '../results/round_metrics/roberta-base_glue_mrpc_2_100_10_1.0_8_1_1000_SGDM_0.33_0.9_SGD_0.001.csv',\n",
    "    'FedAdamW': '../results/round_metrics/roberta-base_glue_mrpc_2_100_10_1.0_8_1_1000_AdamW_0.0001_0.01_SGD_0.001.csv',\n",
    "    'FedAdagrad': '../results/round_metrics/roberta-base_glue_mrpc_2_100_10_1.0_8_1_1000_Adagrad_0.0001_SGD_0.001.csv',\n",
    "    \n",
    "    'FDA-Adam': '../results/round_metrics/roberta-base_glue_mrpc_2_100_10_1.0_8_1_500_True_0.001__Adam_0.0001_SGD_0.001.csv',\n",
    "    'FDA-SGD': '../results/round_metrics/roberta-base_glue_mrpc_2_100_10_1.0_8_1_500_True_0.0024__SGD_1_SGD_0.001.csv',\n",
    "    'FDA-SGDM': '../results/round_metrics/roberta-base_glue_mrpc_2_100_10_1.0_8_1_500_True_0.0023__SGD_0.33_0.9_SGD_0.001.csv'\n",
    "}"
   ]
  },
  {
   "cell_type": "code",
   "execution_count": 140,
   "id": "9f6b6a39-0934-4c65-b9c4-f28c69f334d1",
   "metadata": {
    "tags": []
   },
   "outputs": [],
   "source": [
    "def read_data(method, reported_f1=None, perc_close=None):\n",
    "    df = pd.read_csv(best[method])\n",
    "    df['total_steps'] = df['round_steps'].cumsum()\n",
    "    if reported_f1 and perc_close:\n",
    "        round_num = df[df['f1'] >= perc_close * reported_f1].iloc[0]['round']\n",
    "        df = df[df['round'] <= round_num]\n",
    "    return df"
   ]
  },
  {
   "cell_type": "code",
   "execution_count": 141,
   "id": "fdf073c8-9b40-4f7d-b81c-f71fd8120d56",
   "metadata": {
    "tags": []
   },
   "outputs": [],
   "source": [
    "df_fda = read_data('FDA-SGD')"
   ]
  },
  {
   "cell_type": "code",
   "execution_count": 129,
   "id": "7eb35e10-943a-47f7-b4be-f8ffebe50eb5",
   "metadata": {
    "tags": []
   },
   "outputs": [],
   "source": [
    "df_fed = read_data('FedAvg')"
   ]
  },
  {
   "cell_type": "code",
   "execution_count": 139,
   "id": "6c8797c4-65a1-483b-ba57-6355ad3afa43",
   "metadata": {
    "tags": []
   },
   "outputs": [],
   "source": [
    "reported_f1 = 0.902"
   ]
  },
  {
   "cell_type": "markdown",
   "id": "ef61452d-8a76-4215-b817-ae34f420dc0d",
   "metadata": {
    "tags": []
   },
   "source": [
    "# Investigation"
   ]
  },
  {
   "cell_type": "code",
   "execution_count": 134,
   "id": "525346f4-5cdd-4917-9d0b-b250fa88a6c6",
   "metadata": {
    "tags": []
   },
   "outputs": [],
   "source": [
    "def investigate(df, reported_f1):\n",
    "    for perc_close in [0.95, 0.99, 1.]:\n",
    "        row = df[df['f1'] >= perc_close * reported_f1].iloc[0]\n",
    "        print(f\"Percent: {perc_close}, Rounds: {row['round']}, Total Steps: {row['total_steps']}\")"
   ]
  },
  {
   "cell_type": "code",
   "execution_count": 136,
   "id": "40682aa0-e09d-4cbe-80f8-2efd9a06497f",
   "metadata": {
    "tags": []
   },
   "outputs": [
    {
     "name": "stdout",
     "output_type": "stream",
     "text": [
      "Percent: 0.95, Rounds: 51, Total Steps: 715\n",
      "Percent: 0.99, Rounds: 73, Total Steps: 955\n",
      "Percent: 1.0, Rounds: 190, Total Steps: 2180\n"
     ]
    }
   ],
   "source": [
    "investigate(df_fda, reported_f1)"
   ]
  },
  {
   "cell_type": "code",
   "execution_count": 138,
   "id": "38f60648-d845-46d5-b8a9-c485277119d8",
   "metadata": {
    "tags": []
   },
   "outputs": [
    {
     "name": "stdout",
     "output_type": "stream",
     "text": [
      "Percent: 0.95, Rounds: 166, Total Steps: 830\n",
      "Percent: 0.99, Rounds: 217, Total Steps: 1085\n",
      "Percent: 1.0, Rounds: 243, Total Steps: 1215\n"
     ]
    }
   ],
   "source": [
    "investigate(df_fed, reported_f1)"
   ]
  },
  {
   "cell_type": "markdown",
   "id": "ee45eb50-65c3-4fd1-ba6b-48d18edf3373",
   "metadata": {
    "tags": []
   },
   "source": [
    "# FedOpt plots"
   ]
  },
  {
   "cell_type": "code",
   "execution_count": 145,
   "id": "588e8e1c-48bd-4fa7-98d8-c267657439c6",
   "metadata": {
    "tags": []
   },
   "outputs": [],
   "source": [
    "import matplotlib.pyplot as plt\n",
    "from matplotlib.backends.backend_pdf import PdfPages\n",
    "\n",
    "plt.rcParams['font.size'] = 12.0\n",
    "plt.rcParams['axes.labelsize'] = 16\n",
    "plt.rcParams['axes.titlesize'] = 20\n",
    "plt.rcParams['axes.titleweight'] = 'bold'\n",
    "plt.rcParams['xtick.labelsize'] = 14\n",
    "plt.rcParams['ytick.labelsize'] = 14\n",
    "plt.rcParams['legend.fontsize'] = 14"
   ]
  },
  {
   "cell_type": "code",
   "execution_count": 158,
   "id": "1647e793-5276-4d0b-bd98-9516d623228f",
   "metadata": {
    "tags": []
   },
   "outputs": [],
   "source": [
    "def variance(df, strat, perc_close=None):\n",
    "    pdf = PdfPages(f'plots/{strat}.pdf')\n",
    "    # Plotting 'round' vs 'variance'\n",
    "    plt.figure(figsize=(20, 6))\n",
    "    plt.plot(df['round'], df['variance'], linestyle='-', color='b')\n",
    "    plt.xlabel('Round')\n",
    "    plt.ylabel('Variance')\n",
    "    if perc_close:\n",
    "        plt.title(f'{strat} , RoBERTa-base on MRPC with ≥{perc_close*100}%')\n",
    "    else:\n",
    "        plt.title(f'{strat} , RoBERTa-base on MRPC')\n",
    "    plt.grid(True)\n",
    "    pdf.savefig(plt.gcf())\n",
    "    plt.close()\n",
    "    pdf.close()\n",
    "    \n",
    "    pdf = PdfPages(f'plots/{strat}_log.pdf')\n",
    "    # Plotting 'round' vs 'variance'\n",
    "    plt.figure(figsize=(20, 6))\n",
    "    plt.plot(df['round'], df['variance'], linestyle='-', color='b')\n",
    "    plt.xlabel('Round')\n",
    "    plt.ylabel('Variance')\n",
    "    if perc_close:\n",
    "        plt.title(f'{strat} , RoBERTa-base on MRPC with ≥{perc_close*100}%')\n",
    "    else:\n",
    "        plt.title(f'{strat} , RoBERTa-base on MRPC')\n",
    "    plt.grid(True)\n",
    "    plt.yscale('log')\n",
    "    pdf.savefig(plt.gcf())\n",
    "    plt.close()\n",
    "    pdf.close()"
   ]
  },
  {
   "cell_type": "code",
   "execution_count": 167,
   "id": "b179f9e1-6021-400f-a58e-66287ad3b832",
   "metadata": {
    "tags": []
   },
   "outputs": [],
   "source": [
    "df = read_data('FedAvg', reported_f1, 1.)\n",
    "variance(df, 'FedAvg', 1.)"
   ]
  },
  {
   "cell_type": "code",
   "execution_count": 168,
   "id": "6182f76e-2210-4d81-a148-df18476027bc",
   "metadata": {
    "tags": []
   },
   "outputs": [],
   "source": [
    "df = read_data('FedAvgM', reported_f1, 1.)\n",
    "variance(df, 'FedAvgM', 1.)"
   ]
  },
  {
   "cell_type": "code",
   "execution_count": 169,
   "id": "cd2a6e59-3a10-499d-aa5e-7c4cbc4684ca",
   "metadata": {
    "tags": []
   },
   "outputs": [],
   "source": [
    "df = read_data('FedAdam', reported_f1, 1.)\n",
    "variance(df, 'Adam', 1.)"
   ]
  },
  {
   "cell_type": "code",
   "execution_count": 170,
   "id": "874b98e9-7f4e-4d9c-bc07-8fd2b578ae36",
   "metadata": {
    "tags": []
   },
   "outputs": [],
   "source": [
    "df = read_data('FedAdamW', reported_f1, 1.)\n",
    "variance(df, 'FedAdamW', 1.)"
   ]
  },
  {
   "cell_type": "markdown",
   "id": "a5df10f8-b68a-4691-80de-b001db17c95e",
   "metadata": {},
   "source": [
    "# FDA-Opt plots"
   ]
  },
  {
   "cell_type": "code",
   "execution_count": null,
   "id": "a0cf91a8-f4aa-4bf9-a41f-0b0ae0bd6043",
   "metadata": {},
   "outputs": [],
   "source": []
  },
  {
   "cell_type": "code",
   "execution_count": null,
   "id": "2b23a522-d3f9-4ce5-99e2-f97a095fe867",
   "metadata": {},
   "outputs": [],
   "source": [
    "plt.figure(figsize=(20, 6))\n",
    "plt.plot(df['round'], df['variance'], linestyle='-', color='b')\n",
    "plt.xlabel('Round')\n",
    "plt.ylabel('Variance')\n",
    "plt.title(f'{strat} , RoBERTa-base on MRPC')\n",
    "plt.grid(True)\n",
    "pdf.savefig(plt.gcf())\n",
    "plt.close()\n",
    "pdf.close()"
   ]
  },
  {
   "cell_type": "code",
   "execution_count": 181,
   "id": "3a991c5c-ad94-4978-a51e-f01f8f0f4180",
   "metadata": {
    "tags": []
   },
   "outputs": [],
   "source": [
    "df = read_data('FDA-SGD', reported_f1, 1.)"
   ]
  },
  {
   "cell_type": "code",
   "execution_count": 192,
   "id": "f34d2acb-239e-4bb5-9b56-c33aad61ed58",
   "metadata": {
    "tags": []
   },
   "outputs": [],
   "source": [
    "def steps_dist(df, strat, perc_close=None):\n",
    "\n",
    "    pdf = PdfPages(f'plots/{strat}_steps.pdf')\n",
    "    # Plotting 'round' vs 'variance'\n",
    "    plt.figure(figsize=(8,6))\n",
    "\n",
    "    plt.hist(df['round_steps'], bins=30, edgecolor='black')\n",
    "\n",
    "    # Adding labels and title\n",
    "    if perc_close:\n",
    "        plt.title(f'{strat} , RoBERTa-base on MRPC with ≥{perc_close*100}%')\n",
    "    else:\n",
    "        plt.title(f'{strat} , RoBERTa-base on MRPC')\n",
    "    plt.xlabel('Round Steps')\n",
    "    plt.ylabel('Frequency')\n",
    "\n",
    "    # Show the plot\n",
    "    plt.show()\n",
    "    pdf.savefig(plt.gcf())\n",
    "    plt.close()\n",
    "    pdf.close()"
   ]
  },
  {
   "cell_type": "code",
   "execution_count": 193,
   "id": "29e598ca-7de8-45c3-bd85-91bd3b8649dd",
   "metadata": {
    "tags": []
   },
   "outputs": [
    {
     "data": {
      "image/png": "[encoded data removed]",
      "text/plain": [
       "<Figure size 800x600 with 1 Axes>"
      ]
     },
     "metadata": {},
     "output_type": "display_data"
    }
   ],
   "source": [
    "df = read_data('FDA-SGD', reported_f1, 1.)\n",
    "steps_dist(df, 'FDA-SGD', 1.)"
   ]
  },
  {
   "cell_type": "code",
   "execution_count": 194,
   "id": "7283cd1f-e5f2-41a9-a725-c5fe85e97080",
   "metadata": {
    "tags": []
   },
   "outputs": [
    {
     "data": {
      "image/png": "[encoded data removed]",
      "text/plain": [
       "<Figure size 800x600 with 1 Axes>"
      ]
     },
     "metadata": {},
     "output_type": "display_data"
    }
   ],
   "source": [
    "df = read_data('FDA-SGDM', reported_f1, 1.)\n",
    "steps_dist(df, 'FDA-SGDM', 1.)"
   ]
  },
  {
   "cell_type": "code",
   "execution_count": null,
   "id": "2dbde49e-3a41-4d56-9172-f852a510feaa",
   "metadata": {},
   "outputs": [],
   "source": []
  },
  {
   "cell_type": "code",
   "execution_count": null,
   "id": "c3af5cce-a725-4b2b-b714-871cc6eac99e",
   "metadata": {},
   "outputs": [],
   "source": []
  }
 ],
 "metadata": {
  "kernelspec": {
   "display_name": "Python [conda env:data-analysis]",
   "language": "python",
   "name": "conda-env-data-analysis-py"
  },
  "language_info": {
   "codemirror_mode": {
    "name": "ipython",
    "version": 3
   },
   "file_extension": ".py",
   "mimetype": "text/x-python",
   "name": "python",
   "nbconvert_exporter": "python",
   "pygments_lexer": "ipython3",
   "version": "3.11.5"
  }
 },
 "nbformat": 4,
 "nbformat_minor": 5
}
