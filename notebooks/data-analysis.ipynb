{
 "cells": [
  {
   "cell_type": "code",
   "execution_count": 1,
   "id": "ee2044ee-b43b-47dd-88b3-27d6e8b220c2",
   "metadata": {
    "tags": []
   },
   "outputs": [],
   "source": [
    "import pandas as pd"
   ]
  },
  {
   "cell_type": "code",
   "execution_count": 6,
   "id": "fdf073c8-9b40-4f7d-b81c-f71fd8120d56",
   "metadata": {
    "tags": []
   },
   "outputs": [],
   "source": [
    "df_fda = pd.read_csv('../results/round_metrics/roberta-base_glue_mrpc_2_100_10_1.0_8_1_1000_True_SGD_0.33_0.9_SGD_0.001.csv')"
   ]
  },
  {
   "cell_type": "code",
   "execution_count": 8,
   "id": "7eb35e10-943a-47f7-b4be-f8ffebe50eb5",
   "metadata": {
    "tags": []
   },
   "outputs": [],
   "source": [
    "df_fed = pd.read_csv('../results/round_metrics/roberta-base_glue_mrpc_2_100_10_1.0_8_1_1000_SGDM_0.33_0.9_SGD_0.001.csv')"
   ]
  },
  {
   "cell_type": "code",
   "execution_count": 29,
   "id": "57e7951f-be92-4354-94ea-2255ecc93024",
   "metadata": {
    "tags": []
   },
   "outputs": [],
   "source": [
    "reported_f1 = 0.902"
   ]
  },
  {
   "cell_type": "code",
   "execution_count": 41,
   "id": "2a93bc9a-4a45-43d5-a886-68015d78f1c3",
   "metadata": {
    "tags": []
   },
   "outputs": [
    {
     "data": {
      "text/plain": [
       "Unnamed: 0                      238\n",
       "checkpoint             roberta-base\n",
       "ds_path                        glue\n",
       "ds_name                        mrpc\n",
       "num_labels                        2\n",
       "num_clients                     100\n",
       "clients_per_round                10\n",
       "alpha                           1.0\n",
       "batch_size                        8\n",
       "local_epochs                      1\n",
       "total_rounds                   1000\n",
       "fda                            True\n",
       "server_opt_name                 SGD\n",
       "server_opt_lr                  0.33\n",
       "server_opt_momentum             0.9\n",
       "client_opt_name                 SGD\n",
       "client_opt_lr                 0.001\n",
       "round                           239\n",
       "accuracy                   0.865196\n",
       "f1                         0.904348\n",
       "testing_loss               0.358177\n",
       "training_loss              0.129249\n",
       "variance                   0.000901\n",
       "avg_norm_sq_drifts         0.001701\n",
       "norm_sq_avg_drift            0.0008\n",
       "round_steps                       6\n",
       "Name: 238, dtype: object"
      ]
     },
     "execution_count": 41,
     "metadata": {},
     "output_type": "execute_result"
    }
   ],
   "source": [
    "df_fda[df_fda['f1'] >= reported_f1].iloc[0]"
   ]
  },
  {
   "cell_type": "code",
   "execution_count": 42,
   "id": "0f4da180-89bc-4bfd-a384-123cc51368a2",
   "metadata": {
    "tags": []
   },
   "outputs": [
    {
     "data": {
      "text/plain": [
       "Unnamed: 0                      150\n",
       "checkpoint             roberta-base\n",
       "ds_path                        glue\n",
       "ds_name                        mrpc\n",
       "num_labels                        2\n",
       "num_clients                     100\n",
       "clients_per_round                10\n",
       "alpha                           1.0\n",
       "batch_size                        8\n",
       "local_epochs                      1\n",
       "total_rounds                   1000\n",
       "server_opt_name                SGDM\n",
       "server_opt_lr                  0.33\n",
       "server_opt_momentum             0.9\n",
       "client_opt_name                 SGD\n",
       "client_opt_lr                 0.001\n",
       "round                           151\n",
       "accuracy                   0.862745\n",
       "f1                          0.90378\n",
       "testing_loss                0.33779\n",
       "training_loss              0.332208\n",
       "variance                   0.001904\n",
       "avg_norm_sq_drifts         0.002336\n",
       "norm_sq_avg_drift          0.000432\n",
       "Name: 150, dtype: object"
      ]
     },
     "execution_count": 42,
     "metadata": {},
     "output_type": "execute_result"
    }
   ],
   "source": [
    "df_fed[df_fed['f1'] >= reported_f1].iloc[0]"
   ]
  },
  {
   "cell_type": "code",
   "execution_count": 43,
   "id": "55e2304b-96ed-4e6f-96b3-63d0ed8edaa8",
   "metadata": {
    "tags": []
   },
   "outputs": [
    {
     "data": {
      "text/plain": [
       "0.9265734265734266"
      ]
     },
     "execution_count": 43,
     "metadata": {},
     "output_type": "execute_result"
    }
   ],
   "source": [
    "max(df_fed['f1'])"
   ]
  },
  {
   "cell_type": "code",
   "execution_count": 44,
   "id": "2e8a8b9c-7b40-4c85-b2ca-1e10744875ea",
   "metadata": {
    "tags": []
   },
   "outputs": [
    {
     "data": {
      "text/plain": [
       "0.9192982456140352"
      ]
     },
     "execution_count": 44,
     "metadata": {},
     "output_type": "execute_result"
    }
   ],
   "source": [
    "max(df_fda['f1'])"
   ]
  },
  {
   "cell_type": "code",
   "execution_count": null,
   "id": "a6256158-cb1b-46b6-a91c-786b9218608d",
   "metadata": {},
   "outputs": [],
   "source": []
  },
  {
   "cell_type": "code",
   "execution_count": null,
   "id": "fb21e05f-28c2-49fc-b681-3617bf94df5b",
   "metadata": {},
   "outputs": [],
   "source": []
  },
  {
   "cell_type": "code",
   "execution_count": null,
   "id": "ff35f60b-485f-4709-89f2-5e3b120425bf",
   "metadata": {},
   "outputs": [],
   "source": []
  },
  {
   "cell_type": "code",
   "execution_count": 50,
   "id": "275beaae-3d77-4b94-bcaf-0fdecc263909",
   "metadata": {
    "collapsed": true,
    "jupyter": {
     "outputs_hidden": true
    },
    "tags": []
   },
   "outputs": [
    {
     "data": {
      "text/plain": [
       "[5,\n",
       " 5,\n",
       " 5,\n",
       " 5,\n",
       " 5,\n",
       " 5,\n",
       " 5,\n",
       " 5,\n",
       " 5,\n",
       " 5,\n",
       " 5,\n",
       " 5,\n",
       " 4,\n",
       " 7,\n",
       " 6,\n",
       " 5,\n",
       " 3,\n",
       " 6,\n",
       " 6,\n",
       " 5,\n",
       " 6,\n",
       " 5,\n",
       " 7,\n",
       " 6,\n",
       " 5,\n",
       " 8,\n",
       " 7,\n",
       " 7,\n",
       " 7,\n",
       " 13,\n",
       " 6,\n",
       " 5,\n",
       " 5,\n",
       " 4,\n",
       " 5,\n",
       " 5,\n",
       " 6,\n",
       " 4,\n",
       " 6,\n",
       " 5,\n",
       " 3,\n",
       " 5,\n",
       " 7,\n",
       " 6,\n",
       " 5,\n",
       " 5,\n",
       " 6,\n",
       " 5,\n",
       " 4,\n",
       " 1,\n",
       " 4,\n",
       " 4,\n",
       " 2,\n",
       " 4,\n",
       " 4,\n",
       " 4,\n",
       " 3,\n",
       " 3,\n",
       " 4,\n",
       " 1,\n",
       " 2,\n",
       " 1,\n",
       " 3,\n",
       " 3,\n",
       " 3,\n",
       " 4,\n",
       " 3,\n",
       " 1,\n",
       " 3,\n",
       " 2,\n",
       " 4,\n",
       " 3,\n",
       " 3,\n",
       " 3,\n",
       " 4,\n",
       " 4,\n",
       " 3,\n",
       " 2,\n",
       " 2,\n",
       " 2,\n",
       " 3,\n",
       " 3,\n",
       " 4,\n",
       " 4,\n",
       " 4,\n",
       " 3,\n",
       " 2,\n",
       " 2,\n",
       " 2,\n",
       " 2,\n",
       " 4,\n",
       " 3,\n",
       " 3,\n",
       " 15,\n",
       " 8,\n",
       " 1,\n",
       " 2,\n",
       " 3,\n",
       " 2,\n",
       " 3,\n",
       " 2,\n",
       " 3,\n",
       " 4,\n",
       " 3,\n",
       " 4,\n",
       " 3,\n",
       " 3,\n",
       " 3,\n",
       " 5,\n",
       " 3,\n",
       " 3,\n",
       " 3,\n",
       " 3,\n",
       " 3,\n",
       " 4,\n",
       " 5,\n",
       " 3,\n",
       " 3,\n",
       " 4,\n",
       " 6,\n",
       " 3,\n",
       " 3,\n",
       " 2,\n",
       " 4,\n",
       " 3,\n",
       " 2,\n",
       " 2,\n",
       " 4,\n",
       " 3,\n",
       " 3,\n",
       " 5,\n",
       " 2,\n",
       " 3,\n",
       " 2,\n",
       " 1,\n",
       " 1,\n",
       " 2,\n",
       " 31,\n",
       " 2,\n",
       " 1,\n",
       " 1,\n",
       " 1,\n",
       " 3,\n",
       " 5,\n",
       " 6,\n",
       " 2,\n",
       " 3,\n",
       " 1,\n",
       " 1,\n",
       " 1,\n",
       " 3,\n",
       " 3,\n",
       " 2,\n",
       " 2,\n",
       " 2,\n",
       " 2,\n",
       " 5,\n",
       " 2,\n",
       " 1,\n",
       " 1,\n",
       " 1,\n",
       " 1,\n",
       " 1,\n",
       " 2,\n",
       " 1,\n",
       " 1,\n",
       " 2,\n",
       " 2,\n",
       " 1,\n",
       " 1,\n",
       " 1,\n",
       " 1,\n",
       " 1,\n",
       " 1,\n",
       " 1,\n",
       " 1,\n",
       " 1,\n",
       " 1,\n",
       " 1,\n",
       " 2,\n",
       " 1,\n",
       " 1,\n",
       " 1,\n",
       " 1,\n",
       " 1,\n",
       " 1,\n",
       " 1,\n",
       " 1,\n",
       " 2,\n",
       " 1,\n",
       " 1,\n",
       " 1,\n",
       " 1,\n",
       " 1,\n",
       " 1,\n",
       " 1,\n",
       " 1,\n",
       " 1,\n",
       " 2,\n",
       " 1,\n",
       " 1,\n",
       " 2,\n",
       " 2,\n",
       " 2,\n",
       " 2,\n",
       " 2,\n",
       " 3,\n",
       " 1,\n",
       " 1,\n",
       " 1,\n",
       " 1,\n",
       " 1,\n",
       " 2,\n",
       " 1,\n",
       " 2,\n",
       " 1,\n",
       " 2,\n",
       " 3,\n",
       " 2,\n",
       " 1,\n",
       " 1,\n",
       " 1,\n",
       " 5,\n",
       " 12,\n",
       " 3,\n",
       " 1,\n",
       " 1,\n",
       " 1,\n",
       " 1,\n",
       " 2,\n",
       " 1,\n",
       " 2,\n",
       " 2,\n",
       " 1,\n",
       " 1,\n",
       " 2,\n",
       " 1,\n",
       " 3]"
      ]
     },
     "execution_count": 50,
     "metadata": {},
     "output_type": "execute_result"
    }
   ],
   "source": [
    "list(df_fda['round_steps'][0:238])"
   ]
  },
  {
   "cell_type": "code",
   "execution_count": null,
   "id": "2ede14d1-f9a3-4f0c-9c8e-ec3f5ca53ac4",
   "metadata": {},
   "outputs": [],
   "source": []
  },
  {
   "cell_type": "code",
   "execution_count": null,
   "id": "59d95d41-609d-482e-983a-ec2377b70f37",
   "metadata": {},
   "outputs": [],
   "source": []
  },
  {
   "cell_type": "code",
   "execution_count": null,
   "id": "d3ea5b60-df85-4b21-97ed-f21bf6d0b4e4",
   "metadata": {},
   "outputs": [],
   "source": []
  },
  {
   "cell_type": "code",
   "execution_count": null,
   "id": "5c7ac377-3e84-48f6-932b-9eced5e7b930",
   "metadata": {},
   "outputs": [],
   "source": []
  },
  {
   "cell_type": "code",
   "execution_count": null,
   "id": "eac11b49-a8bf-4c52-994a-a50a8a2e2550",
   "metadata": {},
   "outputs": [],
   "source": []
  },
  {
   "cell_type": "code",
   "execution_count": null,
   "id": "d3074840-7959-45e4-ae56-058e84871ca7",
   "metadata": {},
   "outputs": [],
   "source": []
  },
  {
   "cell_type": "code",
   "execution_count": 77,
   "id": "588e8e1c-48bd-4fa7-98d8-c267657439c6",
   "metadata": {
    "tags": []
   },
   "outputs": [],
   "source": [
    "import matplotlib.pyplot as plt\n",
    "from matplotlib.backends.backend_pdf import PdfPages\n",
    "\n",
    "plt.rcParams['font.size'] = 12.0\n",
    "plt.rcParams['axes.labelsize'] = 16\n",
    "plt.rcParams['axes.titlesize'] = 20\n",
    "plt.rcParams['axes.titleweight'] = 'bold'\n",
    "plt.rcParams['xtick.labelsize'] = 14\n",
    "plt.rcParams['ytick.labelsize'] = 14\n",
    "plt.rcParams['legend.fontsize'] = 14"
   ]
  },
  {
   "cell_type": "code",
   "execution_count": 107,
   "id": "1647e793-5276-4d0b-bd98-9516d623228f",
   "metadata": {
    "tags": []
   },
   "outputs": [],
   "source": [
    "def variance(df, strat):\n",
    "    pdf = PdfPages(f'plots/{strat}.pdf')\n",
    "    # Plotting 'round' vs 'variance'\n",
    "    plt.figure(figsize=(20, 6))\n",
    "    plt.plot(df['round'], df['variance'], linestyle='-', color='b')\n",
    "    plt.xlabel('Round')\n",
    "    plt.ylabel('Variance')\n",
    "    plt.title(f'{strat} , RoBERTa-base on MRPC')\n",
    "    plt.grid(True)\n",
    "    pdf.savefig(plt.gcf())\n",
    "    plt.close()\n",
    "    pdf.close()\n",
    "    \n",
    "    pdf = PdfPages(f'plots/{strat}_log.pdf')\n",
    "    # Plotting 'round' vs 'variance'\n",
    "    plt.figure(figsize=(20, 6))\n",
    "    plt.plot(df['round'], df['variance'], linestyle='-', color='b')\n",
    "    plt.xlabel('Round')\n",
    "    plt.ylabel('Variance')\n",
    "    plt.title(f'{strat} , RoBERTa-base on MRPC')\n",
    "    plt.grid(True)\n",
    "    plt.yscale('log')\n",
    "    pdf.savefig(plt.gcf())\n",
    "    plt.close()\n",
    "    pdf.close()"
   ]
  },
  {
   "cell_type": "code",
   "execution_count": null,
   "id": "c25b7db1-9793-4169-b045-74c649e89fe3",
   "metadata": {},
   "outputs": [],
   "source": []
  },
  {
   "cell_type": "code",
   "execution_count": null,
   "id": "654cc72a-d1d4-410f-9af9-d097b165ca9c",
   "metadata": {},
   "outputs": [],
   "source": []
  },
  {
   "cell_type": "code",
   "execution_count": 108,
   "id": "facf5dd8-b944-4293-b05b-e3196ac482c8",
   "metadata": {
    "tags": []
   },
   "outputs": [],
   "source": [
    "df_fed_sgdm = pd.read_csv('../results/round_metrics/roberta-base_glue_mrpc_2_100_10_1.0_8_1_1000_SGDM_0.33_0.9_SGD_0.001.csv')"
   ]
  },
  {
   "cell_type": "code",
   "execution_count": 109,
   "id": "3fe6f584-ad36-4092-8d51-fbd37561dd68",
   "metadata": {
    "tags": []
   },
   "outputs": [],
   "source": [
    "df_fed_adam = df_fed = pd.read_csv('../results/round_metrics/roberta-base_glue_mrpc_2_100_10_1.0_8_1_1000_Adam_0.0001_SGD_0.001.csv')"
   ]
  },
  {
   "cell_type": "code",
   "execution_count": 110,
   "id": "0c7d1e99-53b5-46b2-8e08-2a0da40f5adb",
   "metadata": {
    "tags": []
   },
   "outputs": [],
   "source": [
    "df_fed_adamw = df_fed = pd.read_csv('../results/round_metrics/roberta-base_glue_mrpc_2_100_10_1.0_8_1_1000_AdamW_0.0001_0.01_SGD_0.001.csv')"
   ]
  },
  {
   "cell_type": "code",
   "execution_count": 111,
   "id": "3ee205dd-6c16-4920-9601-8ad99e7969a4",
   "metadata": {
    "tags": []
   },
   "outputs": [],
   "source": [
    "df_fed_avg = pd.read_csv('../results/round_metrics/roberta-base_glue_mrpc_2_100_10_1.0_8_1_1000_SGD_1.0_SGD_0.001.csv')"
   ]
  },
  {
   "cell_type": "code",
   "execution_count": 112,
   "id": "b179f9e1-6021-400f-a58e-66287ad3b832",
   "metadata": {
    "tags": []
   },
   "outputs": [],
   "source": [
    "variance(df_fed_avg, 'FedAvg')"
   ]
  },
  {
   "cell_type": "code",
   "execution_count": 113,
   "id": "6182f76e-2210-4d81-a148-df18476027bc",
   "metadata": {
    "tags": []
   },
   "outputs": [],
   "source": [
    "variance(df_fed_sgdm, 'FedAvgM')"
   ]
  },
  {
   "cell_type": "code",
   "execution_count": 114,
   "id": "cd2a6e59-3a10-499d-aa5e-7c4cbc4684ca",
   "metadata": {
    "tags": []
   },
   "outputs": [],
   "source": [
    "variance(df_fed_adam, 'Adam')"
   ]
  },
  {
   "cell_type": "code",
   "execution_count": 115,
   "id": "874b98e9-7f4e-4d9c-bc07-8fd2b578ae36",
   "metadata": {
    "tags": []
   },
   "outputs": [],
   "source": [
    "variance(df_fed_adamw, 'AdamW')"
   ]
  },
  {
   "cell_type": "code",
   "execution_count": null,
   "id": "a0b567b6-e7c4-447a-9901-b866518cacc7",
   "metadata": {},
   "outputs": [],
   "source": []
  },
  {
   "cell_type": "code",
   "execution_count": null,
   "id": "88075e7b-c13c-46ff-ae8b-8b0d5ea16510",
   "metadata": {},
   "outputs": [],
   "source": []
  }
 ],
 "metadata": {
  "kernelspec": {
   "display_name": "Python [conda env:data-analysis]",
   "language": "python",
   "name": "conda-env-data-analysis-py"
  },
  "language_info": {
   "codemirror_mode": {
    "name": "ipython",
    "version": 3
   },
   "file_extension": ".py",
   "mimetype": "text/x-python",
   "name": "python",
   "nbconvert_exporter": "python",
   "pygments_lexer": "ipython3",
   "version": "3.11.5"
  }
 },
 "nbformat": 4,
 "nbformat_minor": 5
}
