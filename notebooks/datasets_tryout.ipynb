{
 "cells": [
  {
   "cell_type": "code",
   "execution_count": 1,
   "id": "532be93a-3d1a-4af8-88e2-0c4ab7ce433a",
   "metadata": {
    "tags": []
   },
   "outputs": [],
   "source": [
    "from datasets import load_dataset"
   ]
  },
  {
   "cell_type": "code",
   "execution_count": null,
   "id": "66b2ca00-775c-4e7a-b6ee-116087c04c01",
   "metadata": {},
   "outputs": [],
   "source": []
  },
  {
   "cell_type": "code",
   "execution_count": 2,
   "id": "e0b84462-2180-4cfa-bbab-dee6ee86fdd9",
   "metadata": {
    "tags": []
   },
   "outputs": [
    {
     "name": "stderr",
     "output_type": "stream",
     "text": [
      "Using the latest cached version of the dataset since glue couldn't be found on the Hugging Face Hub\n",
      "Found the latest cached dataset configuration 'mnli' at /home/mtheologitis/.cache/huggingface/datasets/glue/mnli/0.0.0/bcdcba79d07bc864c1c254ccfcedcce55bcc9a8c (last modified on Thu Jul 25 14:20:10 2024).\n"
     ]
    }
   ],
   "source": [
    "mnli = load_dataset(\"glue\", \"mnli\")"
   ]
  },
  {
   "cell_type": "code",
   "execution_count": 3,
   "id": "aef40dc1-5aaf-4416-bf2f-f633a5e71fb7",
   "metadata": {
    "tags": []
   },
   "outputs": [
    {
     "data": {
      "text/plain": [
       "{'premise': Value(dtype='string', id=None),\n",
       " 'hypothesis': Value(dtype='string', id=None),\n",
       " 'label': ClassLabel(names=['entailment', 'neutral', 'contradiction'], id=None),\n",
       " 'idx': Value(dtype='int32', id=None)}"
      ]
     },
     "execution_count": 3,
     "metadata": {},
     "output_type": "execute_result"
    }
   ],
   "source": [
    "mnli['train'].features"
   ]
  },
  {
   "cell_type": "code",
   "execution_count": 4,
   "id": "50633947-5e36-4ed7-b759-d17be1d51183",
   "metadata": {
    "tags": []
   },
   "outputs": [
    {
     "data": {
      "text/plain": [
       "392702"
      ]
     },
     "execution_count": 4,
     "metadata": {},
     "output_type": "execute_result"
    }
   ],
   "source": [
    "mnli['train'].num_rows"
   ]
  },
  {
   "cell_type": "code",
   "execution_count": null,
   "id": "43ea3b82-72d2-463b-af1f-9088940b4f6f",
   "metadata": {},
   "outputs": [],
   "source": []
  },
  {
   "cell_type": "code",
   "execution_count": 5,
   "id": "da9c4473-5493-453f-b358-e313aff54672",
   "metadata": {
    "tags": []
   },
   "outputs": [
    {
     "name": "stderr",
     "output_type": "stream",
     "text": [
      "Using the latest cached version of the dataset since glue couldn't be found on the Hugging Face Hub\n",
      "Found the latest cached dataset configuration 'qqp' at /home/mtheologitis/.cache/huggingface/datasets/glue/qqp/0.0.0/bcdcba79d07bc864c1c254ccfcedcce55bcc9a8c (last modified on Thu Jul 25 14:00:22 2024).\n"
     ]
    }
   ],
   "source": [
    "qqp = load_dataset(\"glue\", \"qqp\")"
   ]
  },
  {
   "cell_type": "code",
   "execution_count": 6,
   "id": "3e340784-e65d-4b78-830b-4e7f0c1896ed",
   "metadata": {
    "tags": []
   },
   "outputs": [
    {
     "data": {
      "text/plain": [
       "{'question1': Value(dtype='string', id=None),\n",
       " 'question2': Value(dtype='string', id=None),\n",
       " 'label': ClassLabel(names=['not_duplicate', 'duplicate'], id=None),\n",
       " 'idx': Value(dtype='int32', id=None)}"
      ]
     },
     "execution_count": 6,
     "metadata": {},
     "output_type": "execute_result"
    }
   ],
   "source": [
    "qqp['train'].features"
   ]
  },
  {
   "cell_type": "code",
   "execution_count": 7,
   "id": "bf14bb9f-b502-4ab9-8728-e518d1cab173",
   "metadata": {
    "tags": []
   },
   "outputs": [
    {
     "data": {
      "text/plain": [
       "363846"
      ]
     },
     "execution_count": 7,
     "metadata": {},
     "output_type": "execute_result"
    }
   ],
   "source": [
    "qqp['train'].num_rows"
   ]
  },
  {
   "cell_type": "code",
   "execution_count": 8,
   "id": "6d6b3196-dc8e-42d3-bbab-d3324479b8a2",
   "metadata": {
    "tags": []
   },
   "outputs": [
    {
     "data": {
      "text/plain": [
       "45.48075"
      ]
     },
     "execution_count": 8,
     "metadata": {},
     "output_type": "execute_result"
    }
   ],
   "source": [
    "363846 / (1000 * 8)"
   ]
  },
  {
   "cell_type": "code",
   "execution_count": null,
   "id": "23de3c62-8667-4e5f-8aca-03d4a2749a72",
   "metadata": {},
   "outputs": [],
   "source": []
  },
  {
   "cell_type": "code",
   "execution_count": 9,
   "id": "b2ffb08e-9ee5-49df-b171-bdfaf7de1ed3",
   "metadata": {
    "tags": []
   },
   "outputs": [
    {
     "name": "stderr",
     "output_type": "stream",
     "text": [
      "Using the latest cached version of the dataset since glue couldn't be found on the Hugging Face Hub\n",
      "Found the latest cached dataset configuration 'qnli' at /home/mtheologitis/.cache/huggingface/datasets/glue/qnli/0.0.0/bcdcba79d07bc864c1c254ccfcedcce55bcc9a8c (last modified on Sun Jan 12 12:09:45 2025).\n"
     ]
    }
   ],
   "source": [
    "qnli = load_dataset(\"glue\", \"qnli\")"
   ]
  },
  {
   "cell_type": "code",
   "execution_count": 10,
   "id": "2830f846-dddd-4486-b38f-33d2a1cfe8fd",
   "metadata": {
    "tags": []
   },
   "outputs": [
    {
     "data": {
      "text/plain": [
       "{'question': Value(dtype='string', id=None),\n",
       " 'sentence': Value(dtype='string', id=None),\n",
       " 'label': ClassLabel(names=['entailment', 'not_entailment'], id=None),\n",
       " 'idx': Value(dtype='int32', id=None)}"
      ]
     },
     "execution_count": 10,
     "metadata": {},
     "output_type": "execute_result"
    }
   ],
   "source": [
    "qnli['train'].features"
   ]
  },
  {
   "cell_type": "code",
   "execution_count": 11,
   "id": "cf35c7d0-dd13-432f-bf48-f39377a1a243",
   "metadata": {
    "tags": []
   },
   "outputs": [
    {
     "data": {
      "text/plain": [
       "104743"
      ]
     },
     "execution_count": 11,
     "metadata": {},
     "output_type": "execute_result"
    }
   ],
   "source": [
    "qnli['train'].num_rows"
   ]
  },
  {
   "cell_type": "code",
   "execution_count": 12,
   "id": "9e395215-228c-4c62-8e56-4c6669513c9d",
   "metadata": {
    "tags": []
   },
   "outputs": [
    {
     "data": {
      "text/plain": [
       "52.3715"
      ]
     },
     "execution_count": 12,
     "metadata": {},
     "output_type": "execute_result"
    }
   ],
   "source": [
    "104743 / (250 * 8)"
   ]
  },
  {
   "cell_type": "code",
   "execution_count": null,
   "id": "1d69cc73-dac3-423e-88c0-ef80bee0bb02",
   "metadata": {},
   "outputs": [],
   "source": []
  },
  {
   "cell_type": "code",
   "execution_count": 13,
   "id": "642c86d1-3c48-4d7e-80d5-92af66ac3097",
   "metadata": {
    "tags": []
   },
   "outputs": [
    {
     "name": "stderr",
     "output_type": "stream",
     "text": [
      "Using the latest cached version of the dataset since glue couldn't be found on the Hugging Face Hub\n",
      "Found the latest cached dataset configuration 'sst2' at /home/mtheologitis/.cache/huggingface/datasets/glue/sst2/0.0.0/bcdcba79d07bc864c1c254ccfcedcce55bcc9a8c (last modified on Tue Jan 28 03:47:08 2025).\n"
     ]
    }
   ],
   "source": [
    "sst2 = load_dataset(\"glue\", \"sst2\")"
   ]
  },
  {
   "cell_type": "code",
   "execution_count": 14,
   "id": "da162600-5bb8-499f-ade4-34949ea5f916",
   "metadata": {
    "tags": []
   },
   "outputs": [
    {
     "data": {
      "text/plain": [
       "{'sentence': Value(dtype='string', id=None),\n",
       " 'label': ClassLabel(names=['negative', 'positive'], id=None),\n",
       " 'idx': Value(dtype='int32', id=None)}"
      ]
     },
     "execution_count": 14,
     "metadata": {},
     "output_type": "execute_result"
    }
   ],
   "source": [
    "sst2['train'].features"
   ]
  },
  {
   "cell_type": "code",
   "execution_count": 15,
   "id": "f7e020d2-f40d-4042-9133-cb89a5101507",
   "metadata": {
    "tags": []
   },
   "outputs": [
    {
     "data": {
      "text/plain": [
       "67349"
      ]
     },
     "execution_count": 15,
     "metadata": {},
     "output_type": "execute_result"
    }
   ],
   "source": [
    "sst2['train'].num_rows"
   ]
  },
  {
   "cell_type": "code",
   "execution_count": 16,
   "id": "94ae2896-9cb2-4e57-a30f-c6f03a8551b9",
   "metadata": {},
   "outputs": [
    {
     "data": {
      "text/plain": [
       "84.18625"
      ]
     },
     "execution_count": 16,
     "metadata": {},
     "output_type": "execute_result"
    }
   ],
   "source": [
    "67349 / (100 * 8)"
   ]
  },
  {
   "cell_type": "code",
   "execution_count": null,
   "id": "4d76751d-d4a5-474d-adde-ac1638ba7d26",
   "metadata": {},
   "outputs": [],
   "source": []
  },
  {
   "cell_type": "code",
   "execution_count": null,
   "id": "ac6503ca-45ec-4e67-beec-5c6cc411e33c",
   "metadata": {},
   "outputs": [],
   "source": []
  },
  {
   "cell_type": "code",
   "execution_count": null,
   "id": "e2b7c913-6efd-4586-a874-7e8d74f4665e",
   "metadata": {},
   "outputs": [],
   "source": []
  },
  {
   "cell_type": "code",
   "execution_count": 17,
   "id": "db6f4369-6593-4276-95af-aa8c802ab8e3",
   "metadata": {
    "tags": []
   },
   "outputs": [
    {
     "name": "stderr",
     "output_type": "stream",
     "text": [
      "Using the latest cached version of the dataset since glue couldn't be found on the Hugging Face Hub\n",
      "Found the latest cached dataset configuration 'cola' at /home/mtheologitis/.cache/huggingface/datasets/glue/cola/0.0.0/bcdcba79d07bc864c1c254ccfcedcce55bcc9a8c (last modified on Sun Dec 22 06:35:52 2024).\n"
     ]
    }
   ],
   "source": [
    "cola = load_dataset(\"glue\", \"cola\")"
   ]
  },
  {
   "cell_type": "code",
   "execution_count": 18,
   "id": "9bb76ba0-10bf-475a-b519-4fe2e880e0dd",
   "metadata": {
    "tags": []
   },
   "outputs": [
    {
     "data": {
      "text/plain": [
       "{'sentence': Value(dtype='string', id=None),\n",
       " 'label': ClassLabel(names=['unacceptable', 'acceptable'], id=None),\n",
       " 'idx': Value(dtype='int32', id=None)}"
      ]
     },
     "execution_count": 18,
     "metadata": {},
     "output_type": "execute_result"
    }
   ],
   "source": [
    "cola['train'].features"
   ]
  },
  {
   "cell_type": "code",
   "execution_count": 19,
   "id": "906b5fba-7a65-432a-8ecc-4fc86485d6fc",
   "metadata": {
    "tags": []
   },
   "outputs": [
    {
     "data": {
      "text/plain": [
       "8551"
      ]
     },
     "execution_count": 19,
     "metadata": {},
     "output_type": "execute_result"
    }
   ],
   "source": [
    "cola['train'].num_rows"
   ]
  },
  {
   "cell_type": "code",
   "execution_count": 20,
   "id": "eed80223-f4ea-40f1-9c6c-142b84ce12cf",
   "metadata": {
    "tags": []
   },
   "outputs": [
    {
     "data": {
      "text/plain": [
       "21.3775"
      ]
     },
     "execution_count": 20,
     "metadata": {},
     "output_type": "execute_result"
    }
   ],
   "source": [
    "8551 / (50 * 8)"
   ]
  },
  {
   "cell_type": "code",
   "execution_count": null,
   "id": "f0440fdb-879b-48d2-864a-c41dc0cc46a8",
   "metadata": {},
   "outputs": [],
   "source": []
  },
  {
   "cell_type": "code",
   "execution_count": null,
   "id": "4441d7ad-5935-4ffa-b785-67a63e40cd21",
   "metadata": {},
   "outputs": [],
   "source": []
  },
  {
   "cell_type": "code",
   "execution_count": null,
   "id": "a8dc5bc3-cbdd-4185-931f-14d3043b7b7d",
   "metadata": {},
   "outputs": [],
   "source": []
  },
  {
   "cell_type": "code",
   "execution_count": 21,
   "id": "466d68a2-07f7-4455-ae3e-e7b8f88726ec",
   "metadata": {
    "tags": []
   },
   "outputs": [
    {
     "name": "stderr",
     "output_type": "stream",
     "text": [
      "Using the latest cached version of the dataset since glue couldn't be found on the Hugging Face Hub\n",
      "Found the latest cached dataset configuration 'stsb' at /home/mtheologitis/.cache/huggingface/datasets/glue/stsb/0.0.0/bcdcba79d07bc864c1c254ccfcedcce55bcc9a8c (last modified on Tue Dec 17 11:36:27 2024).\n"
     ]
    }
   ],
   "source": [
    "stsb = load_dataset(\"glue\", \"stsb\")"
   ]
  },
  {
   "cell_type": "code",
   "execution_count": 22,
   "id": "4ef3e439-1ffd-4ce9-b31a-4a20a6d80b8e",
   "metadata": {
    "tags": []
   },
   "outputs": [
    {
     "data": {
      "text/plain": [
       "{'sentence1': Value(dtype='string', id=None),\n",
       " 'sentence2': Value(dtype='string', id=None),\n",
       " 'label': Value(dtype='float32', id=None),\n",
       " 'idx': Value(dtype='int32', id=None)}"
      ]
     },
     "execution_count": 22,
     "metadata": {},
     "output_type": "execute_result"
    }
   ],
   "source": [
    "stsb['train'].features"
   ]
  },
  {
   "cell_type": "code",
   "execution_count": 23,
   "id": "528a4247-8b3e-446e-82d8-8478f55761e5",
   "metadata": {
    "tags": []
   },
   "outputs": [
    {
     "data": {
      "text/plain": [
       "5749"
      ]
     },
     "execution_count": 23,
     "metadata": {},
     "output_type": "execute_result"
    }
   ],
   "source": [
    "stsb['train'].num_rows"
   ]
  },
  {
   "cell_type": "code",
   "execution_count": null,
   "id": "3ddfd8b8-5188-4ddf-9610-abcf8d45302b",
   "metadata": {},
   "outputs": [],
   "source": []
  },
  {
   "cell_type": "code",
   "execution_count": null,
   "id": "769c27f6-83d8-4ab7-8216-d38803f84c98",
   "metadata": {},
   "outputs": [],
   "source": []
  },
  {
   "cell_type": "code",
   "execution_count": 24,
   "id": "d174e110-08b6-4624-99ce-cec3cc0db7c9",
   "metadata": {
    "tags": []
   },
   "outputs": [
    {
     "name": "stderr",
     "output_type": "stream",
     "text": [
      "Using the latest cached version of the dataset since glue couldn't be found on the Hugging Face Hub\n",
      "Found the latest cached dataset configuration 'mrpc' at /home/mtheologitis/.cache/huggingface/datasets/glue/mrpc/0.0.0/bcdcba79d07bc864c1c254ccfcedcce55bcc9a8c (last modified on Wed Jan 29 10:51:39 2025).\n"
     ]
    }
   ],
   "source": [
    "mrpc = load_dataset(\"glue\", \"mrpc\")"
   ]
  },
  {
   "cell_type": "code",
   "execution_count": 25,
   "id": "cb7a9504-2ccc-404a-b385-80553b110659",
   "metadata": {
    "tags": []
   },
   "outputs": [
    {
     "data": {
      "text/plain": [
       "{'sentence1': Value(dtype='string', id=None),\n",
       " 'sentence2': Value(dtype='string', id=None),\n",
       " 'label': ClassLabel(names=['not_equivalent', 'equivalent'], id=None),\n",
       " 'idx': Value(dtype='int32', id=None)}"
      ]
     },
     "execution_count": 25,
     "metadata": {},
     "output_type": "execute_result"
    }
   ],
   "source": [
    "mrpc['train'].features"
   ]
  },
  {
   "cell_type": "code",
   "execution_count": 26,
   "id": "6beabde7-471f-41f8-bb39-017e740bc93f",
   "metadata": {
    "tags": []
   },
   "outputs": [
    {
     "data": {
      "text/plain": [
       "3668"
      ]
     },
     "execution_count": 26,
     "metadata": {},
     "output_type": "execute_result"
    }
   ],
   "source": [
    "mrpc['train'].num_rows"
   ]
  },
  {
   "cell_type": "code",
   "execution_count": 27,
   "id": "a2b9832e-9059-4607-9745-0956e716ea07",
   "metadata": {},
   "outputs": [
    {
     "data": {
      "text/plain": [
       "2"
      ]
     },
     "execution_count": 27,
     "metadata": {},
     "output_type": "execute_result"
    }
   ],
   "source": [
    "mrpc['train'].features['label'].num_classes"
   ]
  },
  {
   "cell_type": "code",
   "execution_count": 28,
   "id": "5c846b65-3f13-4c68-8c30-546a5a7e7b7e",
   "metadata": {},
   "outputs": [
    {
     "data": {
      "text/plain": [
       "Dataset({\n",
       "    features: ['sentence1', 'sentence2', 'label', 'idx'],\n",
       "    num_rows: 408\n",
       "})"
      ]
     },
     "execution_count": 28,
     "metadata": {},
     "output_type": "execute_result"
    }
   ],
   "source": [
    "mrpc['validation']"
   ]
  },
  {
   "cell_type": "code",
   "execution_count": 29,
   "id": "f92d73a8-8739-4873-86a3-a8965cad45ff",
   "metadata": {
    "tags": []
   },
   "outputs": [
    {
     "name": "stdout",
     "output_type": "stream",
     "text": [
      "{'equivalent': 279, 'not_equivalent': 129}\n"
     ]
    }
   ],
   "source": [
    "# Get the label distribution in the validation split\n",
    "label_distribution = mrpc['validation'].features['label'].names\n",
    "label_counts = mrpc['validation'].to_pandas()['label'].value_counts()\n",
    "\n",
    "# Combine labels and counts into a readable dictionary\n",
    "label_distribution_dict = {label_distribution[label]: count for label, count in label_counts.items()}\n",
    "print(label_distribution_dict)"
   ]
  },
  {
   "cell_type": "code",
   "execution_count": 30,
   "id": "98078b44-28f7-4f17-9aa0-78490c48a601",
   "metadata": {
    "tags": []
   },
   "outputs": [
    {
     "data": {
      "text/plain": [
       "0.3161764705882353"
      ]
     },
     "execution_count": 30,
     "metadata": {},
     "output_type": "execute_result"
    }
   ],
   "source": [
    "label_distribution_dict['not_equivalent'] / (label_distribution_dict['equivalent'] + label_distribution_dict['not_equivalent'])"
   ]
  },
  {
   "cell_type": "code",
   "execution_count": null,
   "id": "bc1f9cdd-dd5a-4fea-8122-0fa5ac9b00d8",
   "metadata": {},
   "outputs": [],
   "source": []
  },
  {
   "cell_type": "code",
   "execution_count": null,
   "id": "c412e50f-032d-47df-95d2-7b6fef04f100",
   "metadata": {},
   "outputs": [],
   "source": []
  },
  {
   "cell_type": "code",
   "execution_count": null,
   "id": "628baef5-c723-4738-b5a4-fcfdaf6add60",
   "metadata": {},
   "outputs": [],
   "source": []
  },
  {
   "cell_type": "code",
   "execution_count": null,
   "id": "3883cc1c-ba95-4a3b-95a5-1708f7aca2c3",
   "metadata": {},
   "outputs": [],
   "source": []
  },
  {
   "cell_type": "code",
   "execution_count": 31,
   "id": "1ddee1dc-457c-42d6-ab4f-e05853830a88",
   "metadata": {
    "tags": []
   },
   "outputs": [
    {
     "name": "stderr",
     "output_type": "stream",
     "text": [
      "Using the latest cached version of the dataset since glue couldn't be found on the Hugging Face Hub\n",
      "Found the latest cached dataset configuration 'rte' at /home/mtheologitis/.cache/huggingface/datasets/glue/rte/0.0.0/bcdcba79d07bc864c1c254ccfcedcce55bcc9a8c (last modified on Tue Dec 17 13:19:19 2024).\n"
     ]
    }
   ],
   "source": [
    "rte = load_dataset(\"glue\", \"rte\")"
   ]
  },
  {
   "cell_type": "code",
   "execution_count": 32,
   "id": "d2e60e0d-3027-4bf2-8ab1-191a86cf8d35",
   "metadata": {
    "tags": []
   },
   "outputs": [
    {
     "data": {
      "text/plain": [
       "{'sentence1': Value(dtype='string', id=None),\n",
       " 'sentence2': Value(dtype='string', id=None),\n",
       " 'label': ClassLabel(names=['entailment', 'not_entailment'], id=None),\n",
       " 'idx': Value(dtype='int32', id=None)}"
      ]
     },
     "execution_count": 32,
     "metadata": {},
     "output_type": "execute_result"
    }
   ],
   "source": [
    "rte['train'].features"
   ]
  },
  {
   "cell_type": "code",
   "execution_count": 33,
   "id": "2aa110b3-80b5-481e-b7ba-e6ede4e7e9db",
   "metadata": {
    "tags": []
   },
   "outputs": [
    {
     "data": {
      "text/plain": [
       "DatasetDict({\n",
       "    train: Dataset({\n",
       "        features: ['sentence1', 'sentence2', 'label', 'idx'],\n",
       "        num_rows: 2490\n",
       "    })\n",
       "    validation: Dataset({\n",
       "        features: ['sentence1', 'sentence2', 'label', 'idx'],\n",
       "        num_rows: 277\n",
       "    })\n",
       "    test: Dataset({\n",
       "        features: ['sentence1', 'sentence2', 'label', 'idx'],\n",
       "        num_rows: 3000\n",
       "    })\n",
       "})"
      ]
     },
     "execution_count": 33,
     "metadata": {},
     "output_type": "execute_result"
    }
   ],
   "source": [
    "rte"
   ]
  },
  {
   "cell_type": "code",
   "execution_count": 34,
   "id": "6b70625a-f571-4433-8706-0da60e673353",
   "metadata": {
    "tags": []
   },
   "outputs": [
    {
     "data": {
      "text/plain": [
       "2490"
      ]
     },
     "execution_count": 34,
     "metadata": {},
     "output_type": "execute_result"
    }
   ],
   "source": [
    "rte['train'].num_rows"
   ]
  },
  {
   "cell_type": "code",
   "execution_count": 35,
   "id": "0fefc45f-9462-418e-884d-38a7e03b7a28",
   "metadata": {
    "tags": []
   },
   "outputs": [
    {
     "data": {
      "text/plain": [
       "31.125"
      ]
     },
     "execution_count": 35,
     "metadata": {},
     "output_type": "execute_result"
    }
   ],
   "source": [
    "2490 / (10 * 8)"
   ]
  },
  {
   "cell_type": "code",
   "execution_count": null,
   "id": "57a785cd-eac6-49b0-bef4-afde47ddd7a8",
   "metadata": {},
   "outputs": [],
   "source": []
  },
  {
   "cell_type": "code",
   "execution_count": null,
   "id": "abdf6967-1f28-430f-a6dd-0a35d3a6a451",
   "metadata": {},
   "outputs": [],
   "source": []
  },
  {
   "cell_type": "code",
   "execution_count": null,
   "id": "a68fffa1-17a5-4370-9d07-9f50479847ed",
   "metadata": {},
   "outputs": [],
   "source": []
  },
  {
   "cell_type": "code",
   "execution_count": null,
   "id": "85c55b9a-69d2-41c5-a6ca-593f216a33ff",
   "metadata": {},
   "outputs": [],
   "source": []
  },
  {
   "cell_type": "code",
   "execution_count": null,
   "id": "e3aff00c-5b8e-4522-9429-207a57450fac",
   "metadata": {},
   "outputs": [],
   "source": []
  },
  {
   "cell_type": "markdown",
   "id": "97c4ca9a-ea24-402e-8af9-6ead5a75cb34",
   "metadata": {},
   "source": [
    "# Visualize Label/Quantity Distributions"
   ]
  },
  {
   "cell_type": "markdown",
   "id": "e72daba6-712a-4b4b-b101-3378ddf66a29",
   "metadata": {
    "tags": []
   },
   "source": [
    "## Funcs"
   ]
  },
  {
   "cell_type": "code",
   "execution_count": 36,
   "id": "34d43e0c-520a-415e-aeb4-09c87dd2f775",
   "metadata": {
    "tags": []
   },
   "outputs": [],
   "source": [
    "from datasets import load_dataset\n",
    "import numpy as np\n",
    "import random\n",
    "\n",
    "def calculate_prior_distribution(raw_train_dataset):\n",
    "    \"\"\"\n",
    "    Calculate the prior distribution of labels in the training dataset.\n",
    "\n",
    "    This function calculates the proportion of each label in the training dataset,\n",
    "    which is used as the prior distribution for Dirichlet sampling.\n",
    "\n",
    "    Args:\n",
    "        raw_train_dataset (datasets.arrow_dataset.Dataset): The training dataset.\n",
    "\n",
    "    Returns:\n",
    "        tuple: A tuple containing:\n",
    "            - prior_distribution (numpy.ndarray): An array of label proportions.\n",
    "            - num_labels (int): The number of unique labels in the dataset.\n",
    "    \"\"\"\n",
    "\n",
    "    # Calculate the number of samples for each label\n",
    "    label_count_dict = dict(raw_train_dataset.to_pandas()['label'].value_counts())\n",
    "    # Num. of samples\n",
    "    n = len(raw_train_dataset)\n",
    "    # (label, count) list, sorted with label increasing\n",
    "    label_count_tuple = sorted(label_count_dict.items(), key=lambda x: x[0])\n",
    "    # prior distribution\n",
    "    prior_distribution = np.array([c / n for _, c in label_count_tuple])\n",
    "\n",
    "    # number of labels\n",
    "    num_labels = len(label_count_dict)\n",
    "\n",
    "    return prior_distribution, num_labels\n",
    "\n",
    "\n",
    "def sample_to_client(client_sample_counts, sample_label):\n",
    "    \"\"\"\n",
    "    Assign a sample to a client based on the sample's label and the remaining counts for each client.\n",
    "\n",
    "    This function assigns a sample to the client that still needs more samples of the given label.\n",
    "    It decrements the count for that label for the chosen client. If no client has a remaining count\n",
    "    of at least 1 for the label, the function assigns the sample to the client with the largest leftover count\n",
    "    for that label.\n",
    "\n",
    "    Args:\n",
    "        client_sample_counts (numpy.ndarray): A 2D array where each row corresponds to a client and each column corresponds\n",
    "            to the count (float) of samples needed for each label. The element at (i, j) represents the decimal number of\n",
    "            samples of label j that client i still needs.\n",
    "        sample_label (int): The label of the sample to be assigned to a client.\n",
    "\n",
    "    Returns:\n",
    "        int: The index of the client to which the sample has been assigned.\n",
    "    \"\"\"\n",
    "    num_clients = len(client_sample_counts)\n",
    "    client_indices = np.random.permutation(num_clients)\n",
    "\n",
    "    for client_idx in client_indices:\n",
    "        client_sample_count = client_sample_counts[client_idx]\n",
    "\n",
    "        if client_sample_count[sample_label] >= 1:\n",
    "            client_sample_count[sample_label] -= 1\n",
    "\n",
    "            return client_idx\n",
    "\n",
    "    # if all client data counts are less than 1, then assign the sample to the largest leftover\n",
    "    client_idx = np.argmax(client_sample_counts[:, sample_label])\n",
    "    client_sample_counts[client_idx][sample_label] -= 1\n",
    "\n",
    "    return client_idx\n",
    "\n",
    "\n",
    "def federated_dirichlet_datasets(raw_train_dataset, prior_distribution, num_clients, alpha):\n",
    "    \"\"\"\n",
    "    Create federated datasets using Dirichlet-distributed label partitions.\n",
    "\n",
    "    This function partitions the training dataset into multiple subsets, each corresponding\n",
    "    to a client. The label distribution for each client is drawn from a Dirichlet distribution\n",
    "    parameterized by the given prior distribution and concentration parameter alpha.\n",
    "    The function also aims to keep the datasets as equal in size as possible.\n",
    "\n",
    "    Args:\n",
    "        raw_train_dataset (datasets.arrow_dataset.Dataset): The training dataset.\n",
    "        prior_distribution (numpy.ndarray): An array representing the prior distribution of labels.\n",
    "        num_clients (int): The number of clients.\n",
    "        alpha (float): The concentration parameter for the Dirichlet distribution.\n",
    "\n",
    "    Returns:\n",
    "        list: A list of `datasets.arrow_dataset.Dataset` objects, each representing a client's dataset.\n",
    "    \"\"\"\n",
    "\n",
    "    # Num. of samples\n",
    "    n = len(raw_train_dataset)\n",
    "\n",
    "    client_num_samples = n / num_clients\n",
    "\n",
    "    # Draw label distributions for each client from Dirichlet distribution\n",
    "    # Each i-th row represents the distribution of labels for the i-th client\n",
    "    client_distributions = np.random.dirichlet(alpha * prior_distribution, num_clients)\n",
    "\n",
    "    # Initialize client data indices\n",
    "    client_sample_indices = [[] for i in range(num_clients)]\n",
    "\n",
    "    # Calculate the number of samples per label each client should have\n",
    "    # client_sample_counts[i] is an array of `num_label` elements\n",
    "    # -- the counts for each label for the i-th client.\n",
    "    client_sample_counts = np.array([\n",
    "        client_distributions[client_idx, :] * client_num_samples\n",
    "        for client_idx in range(num_clients)\n",
    "    ])\n",
    "\n",
    "    for sample_idx, sample in enumerate(raw_train_dataset):\n",
    "        client_idx = sample_to_client(client_sample_counts, sample['label'])\n",
    "\n",
    "        client_sample_indices[client_idx].append(sample_idx)\n",
    "\n",
    "    # Create a Dataset for each client\n",
    "    client_datasets = []\n",
    "    for client_indices in client_sample_indices:\n",
    "        client_dataset = raw_train_dataset.select(client_indices)\n",
    "        client_datasets.append(client_dataset)\n",
    "\n",
    "    return client_datasets"
   ]
  },
  {
   "cell_type": "code",
   "execution_count": 37,
   "id": "fde0ee08-4e21-45b6-b9c6-0228965b1655",
   "metadata": {
    "tags": []
   },
   "outputs": [],
   "source": [
    "def get_label_distribution(dataset):\n",
    "    label_distr = dataset.features['label'].names\n",
    "    label_counts = dataset.to_pandas()['label'].value_counts()\n",
    "    \n",
    "    label_distr_dict = {label_distr[label]: count for label, count in label_counts.items()}\n",
    "    return label_distr_dict"
   ]
  },
  {
   "cell_type": "code",
   "execution_count": 38,
   "id": "af28b4fa-0e51-4b40-8948-f537efda3c0c",
   "metadata": {
    "tags": []
   },
   "outputs": [],
   "source": [
    "import pandas as pd\n",
    "import matplotlib.pyplot as plt\n",
    "from matplotlib.backends.backend_pdf import PdfPages\n",
    "\n",
    "plt.rcParams['font.size'] = 14.0\n",
    "plt.rcParams['axes.labelsize'] = 22\n",
    "plt.rcParams['axes.titlesize'] = 22\n",
    "plt.rcParams['xtick.labelsize'] = 20\n",
    "plt.rcParams['ytick.labelsize'] = 20\n",
    "plt.rcParams['legend.fontsize'] = 18\n",
    "plt.rcParams['axes.titleweight'] = 'bold'"
   ]
  },
  {
   "cell_type": "markdown",
   "id": "c45d4f8a-a20e-43fd-8a58-b6ade8e1adba",
   "metadata": {
    "jp-MarkdownHeadingCollapsed": true,
    "tags": []
   },
   "source": [
    "## SST2"
   ]
  },
  {
   "cell_type": "code",
   "execution_count": 39,
   "id": "30e68a28-ca03-4010-808b-3e4fc52e4df3",
   "metadata": {
    "tags": []
   },
   "outputs": [
    {
     "name": "stderr",
     "output_type": "stream",
     "text": [
      "Using the latest cached version of the dataset since glue couldn't be found on the Hugging Face Hub\n",
      "Found the latest cached dataset configuration 'sst2' at /home/mtheologitis/.cache/huggingface/datasets/glue/sst2/0.0.0/bcdcba79d07bc864c1c254ccfcedcce55bcc9a8c (last modified on Tue Jan 28 03:47:08 2025).\n"
     ]
    }
   ],
   "source": [
    "num_clients = 100\n",
    "alpha = 1.0\n",
    "name = 'sst2'\n",
    "\n",
    "np.random.seed(42)\n",
    "random.seed(42)\n",
    "\n",
    "# Load the raw dataset\n",
    "raw_datasets = load_dataset(path='glue', name=name)\n",
    "\n",
    "# 2. Training dataset\n",
    "raw_train_dataset = raw_datasets['train']\n",
    "\n",
    "# Calculate the prior distribution\n",
    "prior_distribution, num_labels = calculate_prior_distribution(raw_train_dataset)\n",
    "\n",
    "# Partition the dataset into federated datasets\n",
    "client_datasets = federated_dirichlet_datasets(raw_train_dataset, prior_distribution, num_clients, alpha)\n",
    "\n",
    "client_label_distr = [\n",
    "    get_label_distribution(client_datasets[i]) for i in range(num_clients)\n",
    "]\n",
    "\n",
    "# Convert data to a DataFrame for easier manipulation\n",
    "df = pd.DataFrame(client_label_distr)\n",
    "df = df.fillna(0)\n"
   ]
  },
  {
   "cell_type": "code",
   "execution_count": 40,
   "id": "efc48293-1a69-444a-b6d7-cd0f09ef66c3",
   "metadata": {
    "tags": []
   },
   "outputs": [
    {
     "data": {
      "image/png": "[encoded data removed]",
      "text/plain": [
       "<Figure size 1000x300 with 1 Axes>"
      ]
     },
     "metadata": {},
     "output_type": "display_data"
    }
   ],
   "source": [
    "\n",
    "# Save to PDF\n",
    "pdf = PdfPages(f'plots/SST2_distribution.pdf')\n",
    "\n",
    "# Create a stacked bar chart for the label distribution across clients\n",
    "fig, ax = plt.subplots(figsize=(10, 3))\n",
    "x = range(1, len(df)+1)\n",
    "ax.bar(x, df['positive'], label='Positive', color='blue')\n",
    "ax.bar(x, df['negative'], bottom=df['positive'], label='Negative', color='orange')\n",
    "\n",
    "# Add labels and title\n",
    "ax.set_title('SST-2: Data Distribution per Client')\n",
    "ax.set_xlabel('Client ID')\n",
    "ax.set_ylabel('#Samples')\n",
    "ax.legend()\n",
    "ax.set_ylim(0, 1050)\n",
    "\n",
    "#ax.set_xlim(0.5, len(df) + 0.5)  # Adjust x-axis to start with 1 but leave space on the left\n",
    "legend = ax.legend(ncol=2)\n",
    "\n",
    "# Apply tight layout BEFORE saving\n",
    "#plt.tight_layout()\n",
    "\n",
    "plt.subplots_adjust(top=0.88, bottom=0.23)  # Adjust these values as needed\n",
    "\n",
    "pdf.savefig(plt.gcf()) # Save the current figure\n",
    "# Display the plot\n",
    "plt.show()\n",
    "plt.close()\n",
    "pdf.close()"
   ]
  },
  {
   "cell_type": "markdown",
   "id": "f8c5101a-9fc9-4ae5-8c7a-10be2c1a7224",
   "metadata": {
    "jp-MarkdownHeadingCollapsed": true,
    "tags": []
   },
   "source": [
    "## CoLA"
   ]
  },
  {
   "cell_type": "code",
   "execution_count": 41,
   "id": "870ba930-3abe-42dd-bba3-91033347a03a",
   "metadata": {
    "tags": []
   },
   "outputs": [],
   "source": [
    "num_clients = 50\n",
    "alpha = 1.0\n",
    "name = 'cola'"
   ]
  },
  {
   "cell_type": "code",
   "execution_count": 42,
   "id": "4a0ceb2b-7e7a-4426-8a87-b1bfa39f93fc",
   "metadata": {
    "tags": []
   },
   "outputs": [
    {
     "name": "stderr",
     "output_type": "stream",
     "text": [
      "Using the latest cached version of the dataset since glue couldn't be found on the Hugging Face Hub\n",
      "Found the latest cached dataset configuration 'cola' at /home/mtheologitis/.cache/huggingface/datasets/glue/cola/0.0.0/bcdcba79d07bc864c1c254ccfcedcce55bcc9a8c (last modified on Sun Dec 22 06:35:52 2024).\n"
     ]
    }
   ],
   "source": [
    "np.random.seed(42)\n",
    "random.seed(42)\n",
    "\n",
    "# Load the raw dataset\n",
    "raw_datasets = load_dataset(path='glue', name=name)\n",
    "\n",
    "# 2. Training dataset\n",
    "raw_train_dataset = raw_datasets['train']\n",
    "\n",
    "# Calculate the prior distribution\n",
    "prior_distribution, num_labels = calculate_prior_distribution(raw_train_dataset)\n",
    "\n",
    "# Partition the dataset into federated datasets\n",
    "client_datasets = federated_dirichlet_datasets(raw_train_dataset, prior_distribution, num_clients, alpha)\n",
    "\n",
    "client_label_distr = [\n",
    "    get_label_distribution(client_datasets[i]) for i in range(num_clients)\n",
    "]\n",
    "\n",
    "# Convert data to a DataFrame for easier manipulation\n",
    "df = pd.DataFrame(client_label_distr)\n",
    "df = df.fillna(0)"
   ]
  },
  {
   "cell_type": "code",
   "execution_count": 43,
   "id": "a0c56955-8083-43ad-bbad-3f51547c3da6",
   "metadata": {
    "tags": []
   },
   "outputs": [
    {
     "data": {
      "image/png": "[encoded data removed]",
      "text/plain": [
       "<Figure size 1000x300 with 1 Axes>"
      ]
     },
     "metadata": {},
     "output_type": "display_data"
    }
   ],
   "source": [
    "# Save to PDF\n",
    "pdf = PdfPages(f'plots/CoLA_distribution.pdf')\n",
    "\n",
    "# Create a stacked bar chart for the label distribution across clients\n",
    "fig, ax = plt.subplots(figsize=(10, 3))\n",
    "x = range(1, len(df)+1)\n",
    "ax.bar(x, df['acceptable'], label='Acceptable', color='blue')\n",
    "ax.bar(x, df['unacceptable'], bottom=df['acceptable'], label='Unacceptable', color='orange')\n",
    "\n",
    "# Add labels and title\n",
    "ax.set_title('CoLA: Data Distribution per Client')\n",
    "ax.set_xlabel('Client ID')\n",
    "ax.set_ylabel('#Samples')\n",
    "ax.legend()\n",
    "ax.set_ylim(0, 250)\n",
    "\n",
    "plt.subplots_adjust(top=0.88, bottom=0.23)  # Adjust these values as needed\n",
    "\n",
    "legend = ax.legend(ncol=2)\n",
    "\n",
    "pdf.savefig(plt.gcf()) # Save the current figure\n",
    "# Display the plot\n",
    "plt.show()\n",
    "plt.close()\n",
    "pdf.close()"
   ]
  },
  {
   "cell_type": "markdown",
   "id": "b8ec6837-c598-4a2f-bce7-0d66a688b56c",
   "metadata": {
    "tags": []
   },
   "source": [
    "## MRPC"
   ]
  },
  {
   "cell_type": "code",
   "execution_count": 44,
   "id": "2bc5e195-2b44-4138-a02e-2b305ba4bc95",
   "metadata": {
    "tags": []
   },
   "outputs": [],
   "source": [
    "num_clients = 10\n",
    "alpha = 1.0\n",
    "name = 'mrpc'"
   ]
  },
  {
   "cell_type": "code",
   "execution_count": 45,
   "id": "4e99c9bb-236f-4fca-b31f-72261e1ba885",
   "metadata": {
    "tags": []
   },
   "outputs": [
    {
     "name": "stderr",
     "output_type": "stream",
     "text": [
      "Using the latest cached version of the dataset since glue couldn't be found on the Hugging Face Hub\n",
      "Found the latest cached dataset configuration 'mrpc' at /home/mtheologitis/.cache/huggingface/datasets/glue/mrpc/0.0.0/bcdcba79d07bc864c1c254ccfcedcce55bcc9a8c (last modified on Wed Jan 29 10:51:39 2025).\n"
     ]
    }
   ],
   "source": [
    "np.random.seed(42)\n",
    "random.seed(42)\n",
    "\n",
    "# Load the raw dataset\n",
    "raw_datasets = load_dataset(path='glue', name=name)\n",
    "\n",
    "# 2. Training dataset\n",
    "raw_train_dataset = raw_datasets['train']\n",
    "\n",
    "# Calculate the prior distribution\n",
    "prior_distribution, num_labels = calculate_prior_distribution(raw_train_dataset)\n",
    "\n",
    "# Partition the dataset into federated datasets\n",
    "client_datasets = federated_dirichlet_datasets(raw_train_dataset, prior_distribution, num_clients, alpha)\n",
    "\n",
    "client_label_distr = [\n",
    "    get_label_distribution(client_datasets[i]) for i in range(num_clients)\n",
    "]\n",
    "\n",
    "# Convert data to a DataFrame for easier manipulation\n",
    "df = pd.DataFrame(client_label_distr)\n",
    "df = df.fillna(0)"
   ]
  },
  {
   "cell_type": "code",
   "execution_count": 46,
   "id": "1cc99d05-43d0-4387-a149-1f324fdb59a2",
   "metadata": {
    "tags": []
   },
   "outputs": [
    {
     "data": {
      "image/png": "[encoded data removed]",
      "text/plain": [
       "<Figure size 1000x300 with 1 Axes>"
      ]
     },
     "metadata": {},
     "output_type": "display_data"
    }
   ],
   "source": [
    "# Save to PDF\n",
    "pdf = PdfPages(f'plots/MRPC_distribution.pdf')\n",
    "\n",
    "# Create a stacked bar chart for the label distribution across clients\n",
    "fig, ax = plt.subplots(figsize=(10, 3))\n",
    "x = range(1, len(df)+1)\n",
    "ax.bar(x, df['equivalent'], label='Equivalent', color='blue')\n",
    "ax.bar(x, df['not_equivalent'], bottom=df['equivalent'], label='Not Equivalent', color='orange')\n",
    "\n",
    "# Add labels and title\n",
    "ax.set_title('MRPC: Data Distribution per Client')\n",
    "ax.set_xlabel('Client ID')\n",
    "ax.set_ylabel('#Samples')\n",
    "ax.legend()\n",
    "ax.set_ylim(0, 600)\n",
    "\n",
    "plt.subplots_adjust(top=0.88, bottom=0.23)  # Adjust these values as needed\n",
    "\n",
    "legend = ax.legend(ncol=2)\n",
    "\n",
    "pdf.savefig(plt.gcf()) # Save the current figure\n",
    "# Display the plot\n",
    "plt.show()\n",
    "plt.close()\n",
    "pdf.close()"
   ]
  },
  {
   "cell_type": "markdown",
   "id": "f528fa61-fc77-468d-a1a0-260d9f7fbae1",
   "metadata": {
    "tags": []
   },
   "source": [
    "## RTE"
   ]
  },
  {
   "cell_type": "code",
   "execution_count": 47,
   "id": "e9bb41fe-b1f9-4040-8a06-ebeb073c04f0",
   "metadata": {
    "tags": []
   },
   "outputs": [],
   "source": [
    "num_clients = 10\n",
    "alpha = 1.0\n",
    "name = 'rte'"
   ]
  },
  {
   "cell_type": "code",
   "execution_count": 48,
   "id": "373a3d29-69c9-4770-95d1-2f52301eb5de",
   "metadata": {
    "tags": []
   },
   "outputs": [
    {
     "name": "stderr",
     "output_type": "stream",
     "text": [
      "Using the latest cached version of the dataset since glue couldn't be found on the Hugging Face Hub\n",
      "Found the latest cached dataset configuration 'rte' at /home/mtheologitis/.cache/huggingface/datasets/glue/rte/0.0.0/bcdcba79d07bc864c1c254ccfcedcce55bcc9a8c (last modified on Tue Dec 17 13:19:19 2024).\n"
     ]
    },
    {
     "data": {
      "image/png": "[encoded data removed]",
      "text/plain": [
       "<Figure size 1000x300 with 1 Axes>"
      ]
     },
     "metadata": {},
     "output_type": "display_data"
    }
   ],
   "source": [
    "#np.random.seed(9161)\n",
    "#random.seed(9161)\n",
    "\n",
    "# Load the raw dataset\n",
    "raw_datasets = load_dataset(path='glue', name=name)\n",
    "\n",
    "# 2. Training dataset\n",
    "raw_train_dataset = raw_datasets['train']\n",
    "\n",
    "# Calculate the prior distribution\n",
    "prior_distribution, num_labels = calculate_prior_distribution(raw_train_dataset)\n",
    "\n",
    "# Partition the dataset into federated datasets\n",
    "client_datasets = federated_dirichlet_datasets(raw_train_dataset, prior_distribution, num_clients, alpha)\n",
    "\n",
    "client_label_distr = [\n",
    "    get_label_distribution(client_datasets[i]) for i in range(num_clients)\n",
    "]\n",
    "\n",
    "# Convert data to a DataFrame for easier manipulation\n",
    "df = pd.DataFrame(client_label_distr)\n",
    "df = df.fillna(0)\n",
    "\n",
    "\n",
    "# Save to PDF\n",
    "pdf = PdfPages(f'plots/RTE_distribution.pdf')\n",
    "\n",
    "# Create a stacked bar chart for the label distribution across clients\n",
    "fig, ax = plt.subplots(figsize=(10, 3))\n",
    "x = range(1, len(df)+1)\n",
    "ax.bar(x, df['entailment'], label='Entailment', color='blue')\n",
    "ax.bar(x, df['not_entailment'], bottom=df['entailment'], label='Not Entailment', color='orange')\n",
    "\n",
    "# Add labels and title\n",
    "ax.set_title('RTE: Data Distribution per Client')\n",
    "ax.set_xlabel('Client ID')\n",
    "ax.set_ylabel('#Samples')\n",
    "ax.legend()\n",
    "ax.set_ylim(0, 400)\n",
    "\n",
    "plt.subplots_adjust(top=0.88, bottom=0.23)  # Adjust these values as needed\n",
    "\n",
    "legend = ax.legend(ncol=2)\n",
    "\n",
    "pdf.savefig(plt.gcf()) # Save the current figure\n",
    "# Display the plot\n",
    "plt.show()\n",
    "plt.close()\n",
    "pdf.close()"
   ]
  },
  {
   "cell_type": "markdown",
   "id": "45c69216-cec7-46bd-99be-8d333f9f411f",
   "metadata": {
    "tags": []
   },
   "source": [
    "## QNLI"
   ]
  },
  {
   "cell_type": "code",
   "execution_count": 49,
   "id": "00f5df12-225a-402e-bdba-21698057faa3",
   "metadata": {
    "tags": []
   },
   "outputs": [],
   "source": [
    "num_clients = 250\n",
    "alpha = 1.0\n",
    "name = 'qnli'"
   ]
  },
  {
   "cell_type": "code",
   "execution_count": 50,
   "id": "37573710-ef95-45e4-b0ff-854e58c8c08f",
   "metadata": {
    "tags": []
   },
   "outputs": [
    {
     "name": "stderr",
     "output_type": "stream",
     "text": [
      "Using the latest cached version of the dataset since glue couldn't be found on the Hugging Face Hub\n",
      "Found the latest cached dataset configuration 'qnli' at /home/mtheologitis/.cache/huggingface/datasets/glue/qnli/0.0.0/bcdcba79d07bc864c1c254ccfcedcce55bcc9a8c (last modified on Sun Jan 12 12:09:45 2025).\n"
     ]
    }
   ],
   "source": [
    "np.random.seed(42)\n",
    "random.seed(42)\n",
    "\n",
    "# Load the raw dataset\n",
    "raw_datasets = load_dataset(path='glue', name=name)\n",
    "\n",
    "# 2. Training dataset\n",
    "raw_train_dataset = raw_datasets['train']\n",
    "\n",
    "# Calculate the prior distribution\n",
    "prior_distribution, num_labels = calculate_prior_distribution(raw_train_dataset)\n",
    "\n",
    "# Partition the dataset into federated datasets\n",
    "client_datasets = federated_dirichlet_datasets(raw_train_dataset, prior_distribution, num_clients, alpha)\n",
    "\n",
    "client_label_distr = [\n",
    "    get_label_distribution(client_datasets[i]) for i in range(num_clients)\n",
    "]\n",
    "\n",
    "# Convert data to a DataFrame for easier manipulation\n",
    "df = pd.DataFrame(client_label_distr)\n",
    "df = df.fillna(0)"
   ]
  },
  {
   "cell_type": "code",
   "execution_count": 51,
   "id": "03c77141-7673-450c-9f43-e9ffe9251263",
   "metadata": {
    "tags": []
   },
   "outputs": [
    {
     "data": {
      "image/png": "[encoded data removed]",
      "text/plain": [
       "<Figure size 1000x300 with 1 Axes>"
      ]
     },
     "metadata": {},
     "output_type": "display_data"
    }
   ],
   "source": [
    "# Save to PDF\n",
    "pdf = PdfPages(f'plots/QNLI_distribution.pdf')\n",
    "\n",
    "# Create a stacked bar chart for the label distribution across clients\n",
    "fig, ax = plt.subplots(figsize=(10, 3))\n",
    "x = range(1, len(df)+1)\n",
    "ax.bar(x, df['entailment'], label='Entailment', color='blue')\n",
    "ax.bar(x, df['not_entailment'], bottom=df['entailment'], label='Not Entailment', color='orange')\n",
    "\n",
    "# Add labels and title\n",
    "ax.set_title('RTE: Data Distribution per Client')\n",
    "ax.set_xlabel('Client ID')\n",
    "ax.set_ylabel('#Samples')\n",
    "ax.legend()\n",
    "ax.set_ylim(0, 650)\n",
    "\n",
    "plt.subplots_adjust(top=0.88, bottom=0.23)  # Adjust these values as needed\n",
    "\n",
    "legend = ax.legend(ncol=2)\n",
    "\n",
    "pdf.savefig(plt.gcf()) # Save the current figure\n",
    "# Display the plot\n",
    "plt.show()\n",
    "plt.close()\n",
    "pdf.close()"
   ]
  },
  {
   "cell_type": "code",
   "execution_count": null,
   "id": "066ef2f3-0d04-4244-9861-300de5ca99d1",
   "metadata": {},
   "outputs": [],
   "source": []
  },
  {
   "cell_type": "code",
   "execution_count": null,
   "id": "9bfd01b4-856f-4c62-a2f7-31ec8d293029",
   "metadata": {},
   "outputs": [],
   "source": []
  }
 ],
 "metadata": {
  "kernelspec": {
   "display_name": "Python [conda env:pytorch]",
   "language": "python",
   "name": "conda-env-pytorch-py"
  },
  "language_info": {
   "codemirror_mode": {
    "name": "ipython",
    "version": 3
   },
   "file_extension": ".py",
   "mimetype": "text/x-python",
   "name": "python",
   "nbconvert_exporter": "python",
   "pygments_lexer": "ipython3",
   "version": "3.12.4"
  }
 },
 "nbformat": 4,
 "nbformat_minor": 5
}
