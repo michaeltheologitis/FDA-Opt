{
 "cells": [
  {
   "cell_type": "code",
   "execution_count": 1,
   "id": "532be93a-3d1a-4af8-88e2-0c4ab7ce433a",
   "metadata": {
    "tags": []
   },
   "outputs": [],
   "source": [
    "from datasets import load_dataset"
   ]
  },
  {
   "cell_type": "code",
   "execution_count": null,
   "id": "66b2ca00-775c-4e7a-b6ee-116087c04c01",
   "metadata": {},
   "outputs": [],
   "source": []
  },
  {
   "cell_type": "code",
   "execution_count": 2,
   "id": "e0b84462-2180-4cfa-bbab-dee6ee86fdd9",
   "metadata": {
    "tags": []
   },
   "outputs": [
    {
     "name": "stderr",
     "output_type": "stream",
     "text": [
      "Using the latest cached version of the dataset since glue couldn't be found on the Hugging Face Hub\n",
      "Found the latest cached dataset configuration 'mnli' at /home/mtheologitis/.cache/huggingface/datasets/glue/mnli/0.0.0/bcdcba79d07bc864c1c254ccfcedcce55bcc9a8c (last modified on Thu Jul 25 14:20:10 2024).\n"
     ]
    }
   ],
   "source": [
    "mnli = load_dataset(\"glue\", \"mnli\")"
   ]
  },
  {
   "cell_type": "code",
   "execution_count": 38,
   "id": "aef40dc1-5aaf-4416-bf2f-f633a5e71fb7",
   "metadata": {
    "tags": []
   },
   "outputs": [
    {
     "data": {
      "text/plain": [
       "{'premise': Value(dtype='string', id=None),\n",
       " 'hypothesis': Value(dtype='string', id=None),\n",
       " 'label': ClassLabel(names=['entailment', 'neutral', 'contradiction'], id=None),\n",
       " 'idx': Value(dtype='int32', id=None)}"
      ]
     },
     "execution_count": 38,
     "metadata": {},
     "output_type": "execute_result"
    }
   ],
   "source": [
    "mnli['train'].features"
   ]
  },
  {
   "cell_type": "code",
   "execution_count": 39,
   "id": "50633947-5e36-4ed7-b759-d17be1d51183",
   "metadata": {
    "tags": []
   },
   "outputs": [
    {
     "data": {
      "text/plain": [
       "392702"
      ]
     },
     "execution_count": 39,
     "metadata": {},
     "output_type": "execute_result"
    }
   ],
   "source": [
    "mnli['train'].num_rows"
   ]
  },
  {
   "cell_type": "code",
   "execution_count": null,
   "id": "43ea3b82-72d2-463b-af1f-9088940b4f6f",
   "metadata": {},
   "outputs": [],
   "source": []
  },
  {
   "cell_type": "code",
   "execution_count": 20,
   "id": "da9c4473-5493-453f-b358-e313aff54672",
   "metadata": {
    "tags": []
   },
   "outputs": [],
   "source": [
    "qqp = load_dataset(\"glue\", \"qqp\")"
   ]
  },
  {
   "cell_type": "code",
   "execution_count": 40,
   "id": "3e340784-e65d-4b78-830b-4e7f0c1896ed",
   "metadata": {
    "tags": []
   },
   "outputs": [
    {
     "data": {
      "text/plain": [
       "{'question1': Value(dtype='string', id=None),\n",
       " 'question2': Value(dtype='string', id=None),\n",
       " 'label': ClassLabel(names=['not_duplicate', 'duplicate'], id=None),\n",
       " 'idx': Value(dtype='int32', id=None)}"
      ]
     },
     "execution_count": 40,
     "metadata": {},
     "output_type": "execute_result"
    }
   ],
   "source": [
    "qqp['train'].features"
   ]
  },
  {
   "cell_type": "code",
   "execution_count": 41,
   "id": "bf14bb9f-b502-4ab9-8728-e518d1cab173",
   "metadata": {
    "tags": []
   },
   "outputs": [
    {
     "data": {
      "text/plain": [
       "363846"
      ]
     },
     "execution_count": 41,
     "metadata": {},
     "output_type": "execute_result"
    }
   ],
   "source": [
    "qqp['train'].num_rows"
   ]
  },
  {
   "cell_type": "code",
   "execution_count": null,
   "id": "23de3c62-8667-4e5f-8aca-03d4a2749a72",
   "metadata": {},
   "outputs": [],
   "source": []
  },
  {
   "cell_type": "code",
   "execution_count": 21,
   "id": "b2ffb08e-9ee5-49df-b171-bdfaf7de1ed3",
   "metadata": {
    "tags": []
   },
   "outputs": [],
   "source": [
    "qnli = load_dataset(\"glue\", \"qnli\")"
   ]
  },
  {
   "cell_type": "code",
   "execution_count": 42,
   "id": "2830f846-dddd-4486-b38f-33d2a1cfe8fd",
   "metadata": {
    "tags": []
   },
   "outputs": [
    {
     "data": {
      "text/plain": [
       "{'question': Value(dtype='string', id=None),\n",
       " 'sentence': Value(dtype='string', id=None),\n",
       " 'label': ClassLabel(names=['entailment', 'not_entailment'], id=None),\n",
       " 'idx': Value(dtype='int32', id=None)}"
      ]
     },
     "execution_count": 42,
     "metadata": {},
     "output_type": "execute_result"
    }
   ],
   "source": [
    "qnli['train'].features"
   ]
  },
  {
   "cell_type": "code",
   "execution_count": 43,
   "id": "cf35c7d0-dd13-432f-bf48-f39377a1a243",
   "metadata": {
    "tags": []
   },
   "outputs": [
    {
     "data": {
      "text/plain": [
       "104743"
      ]
     },
     "execution_count": 43,
     "metadata": {},
     "output_type": "execute_result"
    }
   ],
   "source": [
    "qnli['train'].num_rows"
   ]
  },
  {
   "cell_type": "code",
   "execution_count": 30,
   "id": "9e395215-228c-4c62-8e56-4c6669513c9d",
   "metadata": {
    "tags": []
   },
   "outputs": [
    {
     "data": {
      "text/plain": [
       "13.092875"
      ]
     },
     "execution_count": 30,
     "metadata": {},
     "output_type": "execute_result"
    }
   ],
   "source": [
    "104743 / (1000 * 8)"
   ]
  },
  {
   "cell_type": "code",
   "execution_count": null,
   "id": "1d69cc73-dac3-423e-88c0-ef80bee0bb02",
   "metadata": {},
   "outputs": [],
   "source": []
  },
  {
   "cell_type": "code",
   "execution_count": 6,
   "id": "642c86d1-3c48-4d7e-80d5-92af66ac3097",
   "metadata": {
    "tags": []
   },
   "outputs": [
    {
     "name": "stderr",
     "output_type": "stream",
     "text": [
      "Using the latest cached version of the dataset since glue couldn't be found on the Hugging Face Hub\n",
      "Found the latest cached dataset configuration 'sst2' at /home/mtheologitis/.cache/huggingface/datasets/glue/sst2/0.0.0/bcdcba79d07bc864c1c254ccfcedcce55bcc9a8c (last modified on Thu Jul 25 13:59:21 2024).\n"
     ]
    }
   ],
   "source": [
    "sst2 = load_dataset(\"glue\", \"sst2\")"
   ]
  },
  {
   "cell_type": "code",
   "execution_count": 7,
   "id": "da162600-5bb8-499f-ade4-34949ea5f916",
   "metadata": {
    "tags": []
   },
   "outputs": [
    {
     "data": {
      "text/plain": [
       "{'sentence': Value(dtype='string', id=None),\n",
       " 'label': ClassLabel(names=['negative', 'positive'], id=None),\n",
       " 'idx': Value(dtype='int32', id=None)}"
      ]
     },
     "execution_count": 7,
     "metadata": {},
     "output_type": "execute_result"
    }
   ],
   "source": [
    "sst2['train'].features"
   ]
  },
  {
   "cell_type": "code",
   "execution_count": 45,
   "id": "f7e020d2-f40d-4042-9133-cb89a5101507",
   "metadata": {
    "tags": []
   },
   "outputs": [
    {
     "data": {
      "text/plain": [
       "67349"
      ]
     },
     "execution_count": 45,
     "metadata": {},
     "output_type": "execute_result"
    }
   ],
   "source": [
    "sst2['train'].num_rows"
   ]
  },
  {
   "cell_type": "code",
   "execution_count": 5,
   "id": "94ae2896-9cb2-4e57-a30f-c6f03a8551b9",
   "metadata": {},
   "outputs": [
    {
     "data": {
      "text/plain": [
       "84.18625"
      ]
     },
     "execution_count": 5,
     "metadata": {},
     "output_type": "execute_result"
    }
   ],
   "source": [
    "67349 / (100 * 8)"
   ]
  },
  {
   "cell_type": "code",
   "execution_count": null,
   "id": "4d76751d-d4a5-474d-adde-ac1638ba7d26",
   "metadata": {},
   "outputs": [],
   "source": []
  },
  {
   "cell_type": "code",
   "execution_count": null,
   "id": "ac6503ca-45ec-4e67-beec-5c6cc411e33c",
   "metadata": {},
   "outputs": [],
   "source": []
  },
  {
   "cell_type": "code",
   "execution_count": null,
   "id": "e2b7c913-6efd-4586-a874-7e8d74f4665e",
   "metadata": {},
   "outputs": [],
   "source": []
  },
  {
   "cell_type": "code",
   "execution_count": 23,
   "id": "db6f4369-6593-4276-95af-aa8c802ab8e3",
   "metadata": {
    "tags": []
   },
   "outputs": [],
   "source": [
    "cola = load_dataset(\"glue\", \"cola\")"
   ]
  },
  {
   "cell_type": "code",
   "execution_count": 46,
   "id": "9bb76ba0-10bf-475a-b519-4fe2e880e0dd",
   "metadata": {
    "tags": []
   },
   "outputs": [
    {
     "data": {
      "text/plain": [
       "{'sentence': Value(dtype='string', id=None),\n",
       " 'label': ClassLabel(names=['unacceptable', 'acceptable'], id=None),\n",
       " 'idx': Value(dtype='int32', id=None)}"
      ]
     },
     "execution_count": 46,
     "metadata": {},
     "output_type": "execute_result"
    }
   ],
   "source": [
    "cola['train'].features"
   ]
  },
  {
   "cell_type": "code",
   "execution_count": 47,
   "id": "906b5fba-7a65-432a-8ecc-4fc86485d6fc",
   "metadata": {
    "tags": []
   },
   "outputs": [
    {
     "data": {
      "text/plain": [
       "8551"
      ]
     },
     "execution_count": 47,
     "metadata": {},
     "output_type": "execute_result"
    }
   ],
   "source": [
    "cola['train'].num_rows"
   ]
  },
  {
   "cell_type": "code",
   "execution_count": 10,
   "id": "eed80223-f4ea-40f1-9c6c-142b84ce12cf",
   "metadata": {
    "tags": []
   },
   "outputs": [
    {
     "data": {
      "text/plain": [
       "21.3775"
      ]
     },
     "execution_count": 10,
     "metadata": {},
     "output_type": "execute_result"
    }
   ],
   "source": [
    "8551 / (50 * 8)"
   ]
  },
  {
   "cell_type": "code",
   "execution_count": null,
   "id": "f0440fdb-879b-48d2-864a-c41dc0cc46a8",
   "metadata": {},
   "outputs": [],
   "source": []
  },
  {
   "cell_type": "code",
   "execution_count": null,
   "id": "4441d7ad-5935-4ffa-b785-67a63e40cd21",
   "metadata": {},
   "outputs": [],
   "source": []
  },
  {
   "cell_type": "code",
   "execution_count": null,
   "id": "a8dc5bc3-cbdd-4185-931f-14d3043b7b7d",
   "metadata": {},
   "outputs": [],
   "source": []
  },
  {
   "cell_type": "code",
   "execution_count": 3,
   "id": "466d68a2-07f7-4455-ae3e-e7b8f88726ec",
   "metadata": {
    "tags": []
   },
   "outputs": [
    {
     "name": "stderr",
     "output_type": "stream",
     "text": [
      "Using the latest cached version of the dataset since glue couldn't be found on the Hugging Face Hub\n",
      "Found the latest cached dataset configuration 'stsb' at /home/mtheologitis/.cache/huggingface/datasets/glue/stsb/0.0.0/bcdcba79d07bc864c1c254ccfcedcce55bcc9a8c (last modified on Tue Dec 17 11:36:27 2024).\n"
     ]
    }
   ],
   "source": [
    "stsb = load_dataset(\"glue\", \"stsb\")"
   ]
  },
  {
   "cell_type": "code",
   "execution_count": 5,
   "id": "4ef3e439-1ffd-4ce9-b31a-4a20a6d80b8e",
   "metadata": {
    "tags": []
   },
   "outputs": [
    {
     "data": {
      "text/plain": [
       "{'sentence1': Value(dtype='string', id=None),\n",
       " 'sentence2': Value(dtype='string', id=None),\n",
       " 'label': Value(dtype='float32', id=None),\n",
       " 'idx': Value(dtype='int32', id=None)}"
      ]
     },
     "execution_count": 5,
     "metadata": {},
     "output_type": "execute_result"
    }
   ],
   "source": [
    "stsb['train'].features"
   ]
  },
  {
   "cell_type": "code",
   "execution_count": 6,
   "id": "528a4247-8b3e-446e-82d8-8478f55761e5",
   "metadata": {
    "tags": []
   },
   "outputs": [
    {
     "data": {
      "text/plain": [
       "5749"
      ]
     },
     "execution_count": 6,
     "metadata": {},
     "output_type": "execute_result"
    }
   ],
   "source": [
    "stsb['train'].num_rows"
   ]
  },
  {
   "cell_type": "code",
   "execution_count": null,
   "id": "3ddfd8b8-5188-4ddf-9610-abcf8d45302b",
   "metadata": {},
   "outputs": [],
   "source": []
  },
  {
   "cell_type": "code",
   "execution_count": null,
   "id": "769c27f6-83d8-4ab7-8216-d38803f84c98",
   "metadata": {},
   "outputs": [],
   "source": []
  },
  {
   "cell_type": "code",
   "execution_count": 15,
   "id": "d174e110-08b6-4624-99ce-cec3cc0db7c9",
   "metadata": {
    "tags": []
   },
   "outputs": [
    {
     "name": "stderr",
     "output_type": "stream",
     "text": [
      "Using the latest cached version of the dataset since glue couldn't be found on the Hugging Face Hub\n",
      "Found the latest cached dataset configuration 'mrpc' at /home/mtheologitis/.cache/huggingface/datasets/glue/mrpc/0.0.0/bcdcba79d07bc864c1c254ccfcedcce55bcc9a8c (last modified on Tue Dec 17 12:39:27 2024).\n"
     ]
    }
   ],
   "source": [
    "mrpc = load_dataset(\"glue\", \"mrpc\")"
   ]
  },
  {
   "cell_type": "code",
   "execution_count": 16,
   "id": "cb7a9504-2ccc-404a-b385-80553b110659",
   "metadata": {
    "tags": []
   },
   "outputs": [
    {
     "data": {
      "text/plain": [
       "{'sentence1': Value(dtype='string', id=None),\n",
       " 'sentence2': Value(dtype='string', id=None),\n",
       " 'label': ClassLabel(names=['not_equivalent', 'equivalent'], id=None),\n",
       " 'idx': Value(dtype='int32', id=None)}"
      ]
     },
     "execution_count": 16,
     "metadata": {},
     "output_type": "execute_result"
    }
   ],
   "source": [
    "mrpc['train'].features"
   ]
  },
  {
   "cell_type": "code",
   "execution_count": 51,
   "id": "6beabde7-471f-41f8-bb39-017e740bc93f",
   "metadata": {
    "tags": []
   },
   "outputs": [
    {
     "data": {
      "text/plain": [
       "3668"
      ]
     },
     "execution_count": 51,
     "metadata": {},
     "output_type": "execute_result"
    }
   ],
   "source": [
    "mrpc['train'].num_rows"
   ]
  },
  {
   "cell_type": "code",
   "execution_count": 20,
   "id": "a2b9832e-9059-4607-9745-0956e716ea07",
   "metadata": {},
   "outputs": [
    {
     "data": {
      "text/plain": [
       "2"
      ]
     },
     "execution_count": 20,
     "metadata": {},
     "output_type": "execute_result"
    }
   ],
   "source": [
    "mrpc['train'].features['label'].num_classes"
   ]
  },
  {
   "cell_type": "code",
   "execution_count": null,
   "id": "5c846b65-3f13-4c68-8c30-546a5a7e7b7e",
   "metadata": {},
   "outputs": [],
   "source": []
  },
  {
   "cell_type": "code",
   "execution_count": null,
   "id": "628baef5-c723-4738-b5a4-fcfdaf6add60",
   "metadata": {},
   "outputs": [],
   "source": []
  },
  {
   "cell_type": "code",
   "execution_count": null,
   "id": "3883cc1c-ba95-4a3b-95a5-1708f7aca2c3",
   "metadata": {},
   "outputs": [],
   "source": []
  },
  {
   "cell_type": "code",
   "execution_count": 26,
   "id": "1ddee1dc-457c-42d6-ab4f-e05853830a88",
   "metadata": {
    "tags": []
   },
   "outputs": [],
   "source": [
    "rte = load_dataset(\"glue\", \"rte\")"
   ]
  },
  {
   "cell_type": "code",
   "execution_count": 37,
   "id": "d2e60e0d-3027-4bf2-8ab1-191a86cf8d35",
   "metadata": {
    "tags": []
   },
   "outputs": [
    {
     "data": {
      "text/plain": [
       "{'sentence1': Value(dtype='string', id=None),\n",
       " 'sentence2': Value(dtype='string', id=None),\n",
       " 'label': ClassLabel(names=['entailment', 'not_entailment'], id=None),\n",
       " 'idx': Value(dtype='int32', id=None)}"
      ]
     },
     "execution_count": 37,
     "metadata": {},
     "output_type": "execute_result"
    }
   ],
   "source": [
    "rte['train'].features"
   ]
  },
  {
   "cell_type": "code",
   "execution_count": 52,
   "id": "2aa110b3-80b5-481e-b7ba-e6ede4e7e9db",
   "metadata": {
    "tags": []
   },
   "outputs": [
    {
     "data": {
      "text/plain": [
       "DatasetDict({\n",
       "    train: Dataset({\n",
       "        features: ['sentence1', 'sentence2', 'label', 'idx'],\n",
       "        num_rows: 2490\n",
       "    })\n",
       "    validation: Dataset({\n",
       "        features: ['sentence1', 'sentence2', 'label', 'idx'],\n",
       "        num_rows: 277\n",
       "    })\n",
       "    test: Dataset({\n",
       "        features: ['sentence1', 'sentence2', 'label', 'idx'],\n",
       "        num_rows: 3000\n",
       "    })\n",
       "})"
      ]
     },
     "execution_count": 52,
     "metadata": {},
     "output_type": "execute_result"
    }
   ],
   "source": [
    "rte"
   ]
  },
  {
   "cell_type": "code",
   "execution_count": 34,
   "id": "6b70625a-f571-4433-8706-0da60e673353",
   "metadata": {
    "tags": []
   },
   "outputs": [
    {
     "data": {
      "text/plain": [
       "2490"
      ]
     },
     "execution_count": 34,
     "metadata": {},
     "output_type": "execute_result"
    }
   ],
   "source": [
    "rte['train'].num_rows"
   ]
  },
  {
   "cell_type": "code",
   "execution_count": 60,
   "id": "0fefc45f-9462-418e-884d-38a7e03b7a28",
   "metadata": {
    "tags": []
   },
   "outputs": [
    {
     "data": {
      "text/plain": [
       "31.125"
      ]
     },
     "execution_count": 60,
     "metadata": {},
     "output_type": "execute_result"
    }
   ],
   "source": [
    "2490 / (10 * 8)"
   ]
  },
  {
   "cell_type": "code",
   "execution_count": null,
   "id": "57a785cd-eac6-49b0-bef4-afde47ddd7a8",
   "metadata": {},
   "outputs": [],
   "source": []
  },
  {
   "cell_type": "code",
   "execution_count": null,
   "id": "abdf6967-1f28-430f-a6dd-0a35d3a6a451",
   "metadata": {},
   "outputs": [],
   "source": []
  },
  {
   "cell_type": "code",
   "execution_count": null,
   "id": "a68fffa1-17a5-4370-9d07-9f50479847ed",
   "metadata": {},
   "outputs": [],
   "source": []
  },
  {
   "cell_type": "code",
   "execution_count": null,
   "id": "85c55b9a-69d2-41c5-a6ca-593f216a33ff",
   "metadata": {},
   "outputs": [],
   "source": []
  },
  {
   "cell_type": "code",
   "execution_count": null,
   "id": "e3aff00c-5b8e-4522-9429-207a57450fac",
   "metadata": {},
   "outputs": [],
   "source": []
  },
  {
   "cell_type": "code",
   "execution_count": null,
   "id": "0c1b72c1-acdf-4403-86b3-fed97dd2dd1a",
   "metadata": {},
   "outputs": [],
   "source": []
  },
  {
   "cell_type": "code",
   "execution_count": null,
   "id": "44947500-1458-481f-806c-50b422c74005",
   "metadata": {},
   "outputs": [],
   "source": []
  }
 ],
 "metadata": {
  "kernelspec": {
   "display_name": "Python [conda env:pytorch]",
   "language": "python",
   "name": "conda-env-pytorch-py"
  },
  "language_info": {
   "codemirror_mode": {
    "name": "ipython",
    "version": 3
   },
   "file_extension": ".py",
   "mimetype": "text/x-python",
   "name": "python",
   "nbconvert_exporter": "python",
   "pygments_lexer": "ipython3",
   "version": "3.12.4"
  }
 },
 "nbformat": 4,
 "nbformat_minor": 5
}
