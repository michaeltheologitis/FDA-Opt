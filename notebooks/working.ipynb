{
 "cells": [
  {
   "cell_type": "code",
   "execution_count": null,
   "id": "331d30ee-fcf4-4ba9-a79d-9bc11d15c017",
   "metadata": {},
   "outputs": [],
   "source": []
  },
  {
   "cell_type": "code",
   "execution_count": null,
   "id": "cbf88e71-227f-48d4-a5ab-f552f1f926e3",
   "metadata": {},
   "outputs": [],
   "source": []
  },
  {
   "cell_type": "code",
   "execution_count": null,
   "id": "9f780bc9-b1d3-4c64-b800-e3767ed4e7d7",
   "metadata": {},
   "outputs": [],
   "source": []
  },
  {
   "cell_type": "code",
   "execution_count": null,
   "id": "90617d43-1c00-4791-922f-fca76f406da6",
   "metadata": {},
   "outputs": [],
   "source": []
  },
  {
   "cell_type": "code",
   "execution_count": null,
   "id": "c53f14bd-0c51-4a64-ba21-075bd4673e36",
   "metadata": {},
   "outputs": [],
   "source": [
    "@torch.no_grad\n",
    "def vectorize(parameters):\n",
    "    con = []\n",
    "    for param in parameters:\n",
    "        con.append(param.view(-1))\n",
    "    return torch.cat(con)\n",
    "\n",
    "def local_state(w_current, w_last_round, w_last_last_round):\n",
    "    w_current = vectorize(list(w_current.values())_\n",
    "    w_last_round = vectorize(list(w_last_round.values()))\n",
    "    w_last_last_round = vectorize(list(w_last_last_round.values()))\n",
    "                          \n",
    "    drift = w_current - w_last_round\n",
    "                          \n",
    "    diff_norm = torch.norm(w_last_round - w_last_last_round)\n",
    "    if diff_norm > 1e-8:  # Prevent division by zero or near-zero values\n",
    "        ksi = (w_last_round - w_last_last_round) / diff_norm\n",
    "        approx = torch.dot(drift, ksi)\n",
    "    else:\n",
    "        ksi = torch.zeros_like(drift)\n",
    "        approx = torch.tensor(0.0, device=drift.device)\n",
    "    \n",
    "    norm_sq = torch.dot(drift, drift)\n",
    "    approx = torch.dot(drift, ksi)\n",
    "                          \n",
    "    return norm_sq, approx"
   ]
  },
  {
   "cell_type": "code",
   "execution_count": null,
   "id": "dad878eb-9aee-4fa4-b5a1-8a753acd7637",
   "metadata": {},
   "outputs": [],
   "source": []
  },
  {
   "cell_type": "code",
   "execution_count": null,
   "id": "298c55bb-89b6-4758-aee9-dec308b105e1",
   "metadata": {},
   "outputs": [],
   "source": []
  },
  {
   "cell_type": "code",
   "execution_count": 1,
   "id": "b675c9ed-a92c-438e-b9ed-56f8eca00172",
   "metadata": {
    "tags": []
   },
   "outputs": [],
   "source": [
    "x = {'1': 1, 'dsad': 2}"
   ]
  },
  {
   "cell_type": "code",
   "execution_count": 3,
   "id": "8d96c62a-9c16-4a4c-be2d-df1f312ac07f",
   "metadata": {
    "tags": []
   },
   "outputs": [
    {
     "data": {
      "text/plain": [
       "[1, 2]"
      ]
     },
     "execution_count": 3,
     "metadata": {},
     "output_type": "execute_result"
    }
   ],
   "source": [
    "list(x.values())"
   ]
  },
  {
   "cell_type": "code",
   "execution_count": null,
   "id": "62773a63-286c-4326-8396-c67b52492d5a",
   "metadata": {},
   "outputs": [],
   "source": []
  }
 ],
 "metadata": {
  "kernelspec": {
   "display_name": "Python [conda env:pytorch]",
   "language": "python",
   "name": "conda-env-pytorch-py"
  },
  "language_info": {
   "codemirror_mode": {
    "name": "ipython",
    "version": 3
   },
   "file_extension": ".py",
   "mimetype": "text/x-python",
   "name": "python",
   "nbconvert_exporter": "python",
   "pygments_lexer": "ipython3",
   "version": "3.12.4"
  }
 },
 "nbformat": 4,
 "nbformat_minor": 5
}
